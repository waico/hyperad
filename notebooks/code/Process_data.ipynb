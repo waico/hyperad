{
 "cells": [
  {
   "cell_type": "markdown",
   "id": "98ee8756",
   "metadata": {},
   "source": [
    "# Предобработка данных\n",
    "\n",
    "1. Удаление записей с датой 1970-01-01\n",
    "2. Заполнение пропусков значением \"missing\"\n",
    "3. Рассчет местного времени\n",
    "4. Генерация признаков месяц, дата, день недели, час, минута (по местному времени)\n",
    "5. Все что можно переведено в int8 \n",
    "6. Разбиение выборки на трейн(первые 2 недели) / тест(последняя неделя) \n",
    "7. Сохранение в пиклы"
   ]
  },
  {
   "cell_type": "code",
   "execution_count": 1,
   "id": "ecological-miracle",
   "metadata": {},
   "outputs": [],
   "source": [
    "import pickle\n",
    "import numpy as np\n",
    "import pandas as pd\n",
    "from IPython.display import display\n",
    "import warnings\n",
    "warnings.filterwarnings('ignore')"
   ]
  },
  {
   "cell_type": "markdown",
   "id": "ca90b988",
   "metadata": {},
   "source": [
    "# Загрузка данных"
   ]
  },
  {
   "cell_type": "code",
   "execution_count": 2,
   "id": "97e00987",
   "metadata": {},
   "outputs": [
    {
     "data": {
      "text/html": [
       "<div>\n",
       "<style scoped>\n",
       "    .dataframe tbody tr th:only-of-type {\n",
       "        vertical-align: middle;\n",
       "    }\n",
       "\n",
       "    .dataframe tbody tr th {\n",
       "        vertical-align: top;\n",
       "    }\n",
       "\n",
       "    .dataframe thead th {\n",
       "        text-align: right;\n",
       "    }\n",
       "</style>\n",
       "<table border=\"1\" class=\"dataframe\">\n",
       "  <thead>\n",
       "    <tr style=\"text-align: right;\">\n",
       "      <th></th>\n",
       "      <th>Segment</th>\n",
       "      <th>gamecategory</th>\n",
       "      <th>subgamecategory</th>\n",
       "      <th>bundle</th>\n",
       "      <th>created</th>\n",
       "      <th>shift</th>\n",
       "      <th>oblast</th>\n",
       "      <th>city</th>\n",
       "      <th>os</th>\n",
       "      <th>osv</th>\n",
       "    </tr>\n",
       "  </thead>\n",
       "  <tbody>\n",
       "    <tr>\n",
       "      <th>0</th>\n",
       "      <td>4</td>\n",
       "      <td>Games</td>\n",
       "      <td>Racing</td>\n",
       "      <td>com.MadOut.BIG</td>\n",
       "      <td>2021-07-05 18:07:40</td>\n",
       "      <td>MSK+6</td>\n",
       "      <td>Забайкальский Край</td>\n",
       "      <td>Чита</td>\n",
       "      <td>android</td>\n",
       "      <td>10.0</td>\n",
       "    </tr>\n",
       "    <tr>\n",
       "      <th>1</th>\n",
       "      <td>4</td>\n",
       "      <td>NaN</td>\n",
       "      <td>NaN</td>\n",
       "      <td>com.easybrain.solitaire.klondike.free</td>\n",
       "      <td>2021-07-10 10:38:42</td>\n",
       "      <td>MSK+2</td>\n",
       "      <td>Оренбургская область</td>\n",
       "      <td>Оренбург</td>\n",
       "      <td>Android</td>\n",
       "      <td>10.0.0</td>\n",
       "    </tr>\n",
       "    <tr>\n",
       "      <th>2</th>\n",
       "      <td>5</td>\n",
       "      <td>Games</td>\n",
       "      <td>Arcade</td>\n",
       "      <td>com.orbitalknight.ridiculousfreekick</td>\n",
       "      <td>2021-08-04 13:34:29</td>\n",
       "      <td>MSK</td>\n",
       "      <td>Санкт-Петербург</td>\n",
       "      <td>Санкт-Петербург</td>\n",
       "      <td>android</td>\n",
       "      <td>9.0</td>\n",
       "    </tr>\n",
       "    <tr>\n",
       "      <th>3</th>\n",
       "      <td>5</td>\n",
       "      <td>NaN</td>\n",
       "      <td>NaN</td>\n",
       "      <td>tcouchgind.scooterextreme.scooter</td>\n",
       "      <td>2021-08-06 07:35:27</td>\n",
       "      <td>MSK+2</td>\n",
       "      <td>Свердловская область</td>\n",
       "      <td>Екатеринбург</td>\n",
       "      <td>android</td>\n",
       "      <td>9</td>\n",
       "    </tr>\n",
       "    <tr>\n",
       "      <th>4</th>\n",
       "      <td>4</td>\n",
       "      <td>NaN</td>\n",
       "      <td>NaN</td>\n",
       "      <td>com.FidgetTrading3D.game</td>\n",
       "      <td>2021-08-02 20:43:59</td>\n",
       "      <td>MSK</td>\n",
       "      <td>Московская область</td>\n",
       "      <td>Звенигород</td>\n",
       "      <td>android</td>\n",
       "      <td>6.0.1</td>\n",
       "    </tr>\n",
       "  </tbody>\n",
       "</table>\n",
       "</div>"
      ],
      "text/plain": [
       "   Segment gamecategory subgamecategory  \\\n",
       "0        4        Games          Racing   \n",
       "1        4          NaN             NaN   \n",
       "2        5        Games          Arcade   \n",
       "3        5          NaN             NaN   \n",
       "4        4          NaN             NaN   \n",
       "\n",
       "                                  bundle             created  shift  \\\n",
       "0                         com.MadOut.BIG 2021-07-05 18:07:40  MSK+6   \n",
       "1  com.easybrain.solitaire.klondike.free 2021-07-10 10:38:42  MSK+2   \n",
       "2   com.orbitalknight.ridiculousfreekick 2021-08-04 13:34:29    MSK   \n",
       "3      tcouchgind.scooterextreme.scooter 2021-08-06 07:35:27  MSK+2   \n",
       "4               com.FidgetTrading3D.game 2021-08-02 20:43:59    MSK   \n",
       "\n",
       "                 oblast             city       os     osv  \n",
       "0    Забайкальский Край             Чита  android    10.0  \n",
       "1  Оренбургская область         Оренбург  Android  10.0.0  \n",
       "2       Санкт-Петербург  Санкт-Петербург  android     9.0  \n",
       "3  Свердловская область     Екатеринбург  android       9  \n",
       "4    Московская область       Звенигород  android   6.0.1  "
      ]
     },
     "metadata": {},
     "output_type": "display_data"
    },
    {
     "name": "stdout",
     "output_type": "stream",
     "text": [
      "(44854516, 10)\n",
      "<class 'pandas.core.frame.DataFrame'>\n",
      "RangeIndex: 44854516 entries, 0 to 44854515\n",
      "Data columns (total 10 columns):\n",
      " #   Column           Dtype         \n",
      "---  ------           -----         \n",
      " 0   Segment          int64         \n",
      " 1   gamecategory     object        \n",
      " 2   subgamecategory  object        \n",
      " 3   bundle           object        \n",
      " 4   created          datetime64[ns]\n",
      " 5   shift            object        \n",
      " 6   oblast           object        \n",
      " 7   city             object        \n",
      " 8   os               object        \n",
      " 9   osv              object        \n",
      "dtypes: datetime64[ns](1), int64(1), object(8)\n",
      "memory usage: 3.3+ GB\n"
     ]
    },
    {
     "data": {
      "text/plain": [
       "None"
      ]
     },
     "metadata": {},
     "output_type": "display_data"
    },
    {
     "name": "stdout",
     "output_type": "stream",
     "text": [
      "Wall time: 1min 43s\n"
     ]
    }
   ],
   "source": [
    "%%time\n",
    "data = pd.read_csv('../data/raw/train.csv', parse_dates=['created'])\n",
    "display(data.head())\n",
    "print(data.shape)\n",
    "display(data.info())"
   ]
  },
  {
   "cell_type": "markdown",
   "id": "7d12ac1f",
   "metadata": {},
   "source": [
    "# Анализ"
   ]
  },
  {
   "cell_type": "code",
   "execution_count": 3,
   "id": "1aada731",
   "metadata": {},
   "outputs": [
    {
     "data": {
      "text/html": [
       "<div>\n",
       "<style scoped>\n",
       "    .dataframe tbody tr th:only-of-type {\n",
       "        vertical-align: middle;\n",
       "    }\n",
       "\n",
       "    .dataframe tbody tr th {\n",
       "        vertical-align: top;\n",
       "    }\n",
       "\n",
       "    .dataframe thead th {\n",
       "        text-align: right;\n",
       "    }\n",
       "</style>\n",
       "<table border=\"1\" class=\"dataframe\">\n",
       "  <thead>\n",
       "    <tr style=\"text-align: right;\">\n",
       "      <th></th>\n",
       "      <th>Segment</th>\n",
       "      <th>gamecategory</th>\n",
       "      <th>subgamecategory</th>\n",
       "      <th>bundle</th>\n",
       "      <th>created</th>\n",
       "      <th>shift</th>\n",
       "      <th>oblast</th>\n",
       "      <th>city</th>\n",
       "      <th>os</th>\n",
       "      <th>osv</th>\n",
       "    </tr>\n",
       "  </thead>\n",
       "  <tbody>\n",
       "    <tr>\n",
       "      <th>0</th>\n",
       "      <td>4</td>\n",
       "      <td>Games</td>\n",
       "      <td>Racing</td>\n",
       "      <td>com.MadOut.BIG</td>\n",
       "      <td>2021-07-05 18:07:40</td>\n",
       "      <td>MSK+6</td>\n",
       "      <td>Забайкальский Край</td>\n",
       "      <td>Чита</td>\n",
       "      <td>android</td>\n",
       "      <td>10.0</td>\n",
       "    </tr>\n",
       "    <tr>\n",
       "      <th>1</th>\n",
       "      <td>4</td>\n",
       "      <td>NaN</td>\n",
       "      <td>NaN</td>\n",
       "      <td>com.easybrain.solitaire.klondike.free</td>\n",
       "      <td>2021-07-10 10:38:42</td>\n",
       "      <td>MSK+2</td>\n",
       "      <td>Оренбургская область</td>\n",
       "      <td>Оренбург</td>\n",
       "      <td>Android</td>\n",
       "      <td>10.0.0</td>\n",
       "    </tr>\n",
       "  </tbody>\n",
       "</table>\n",
       "</div>"
      ],
      "text/plain": [
       "   Segment gamecategory subgamecategory  \\\n",
       "0        4        Games          Racing   \n",
       "1        4          NaN             NaN   \n",
       "\n",
       "                                  bundle             created  shift  \\\n",
       "0                         com.MadOut.BIG 2021-07-05 18:07:40  MSK+6   \n",
       "1  com.easybrain.solitaire.klondike.free 2021-07-10 10:38:42  MSK+2   \n",
       "\n",
       "                 oblast      city       os     osv  \n",
       "0    Забайкальский Край      Чита  android    10.0  \n",
       "1  Оренбургская область  Оренбург  Android  10.0.0  "
      ]
     },
     "metadata": {},
     "output_type": "display_data"
    }
   ],
   "source": [
    "display(data.head(2))"
   ]
  },
  {
   "cell_type": "markdown",
   "id": "deffa272",
   "metadata": {},
   "source": [
    "## Проверка пропусков в данных"
   ]
  },
  {
   "cell_type": "code",
   "execution_count": 4,
   "id": "4921b6ea",
   "metadata": {},
   "outputs": [
    {
     "data": {
      "text/plain": [
       "Segment                   0\n",
       "gamecategory       16961331\n",
       "subgamecategory    16968425\n",
       "bundle                17284\n",
       "created                   0\n",
       "shift               3591150\n",
       "oblast              3455278\n",
       "city                4799992\n",
       "os                      233\n",
       "osv                     283\n",
       "dtype: int64"
      ]
     },
     "execution_count": 4,
     "metadata": {},
     "output_type": "execute_result"
    }
   ],
   "source": [
    "data.isna().sum()"
   ]
  },
  {
   "cell_type": "markdown",
   "id": "309a133c",
   "metadata": {},
   "source": [
    "## Количество значений в признаках"
   ]
  },
  {
   "cell_type": "code",
   "execution_count": 5,
   "id": "a9dc5f50",
   "metadata": {},
   "outputs": [
    {
     "data": {
      "text/plain": [
       "5    17187506\n",
       "3    14187054\n",
       "4    11142080\n",
       "2     1416245\n",
       "1      921631\n",
       "Name: Segment, dtype: int64"
      ]
     },
     "execution_count": 5,
     "metadata": {},
     "output_type": "execute_result"
    }
   ],
   "source": [
    "data['Segment'].value_counts()"
   ]
  },
  {
   "cell_type": "code",
   "execution_count": 6,
   "id": "5708ef89",
   "metadata": {},
   "outputs": [
    {
     "data": {
      "text/plain": [
       "Games                 24555534\n",
       "Applications           2742231\n",
       "Lifestyle               267292\n",
       "Shopping                184875\n",
       "Entertainment            31465\n",
       "Social Networking        28931\n",
       "Education                27008\n",
       "Book                     23483\n",
       "Photo & Video            10235\n",
       "Utilities                 7560\n",
       "Music                     4571\n",
       "IAB9-30                   3474\n",
       "Health & Fitness          1423\n",
       "Finance                   1322\n",
       "Productivity              1314\n",
       "Travel                     778\n",
       "Sports                     614\n",
       "Navigation                 332\n",
       "Reference                  235\n",
       "IAB9,IAB9-30,games         226\n",
       "Graphics & Design           73\n",
       "Business                    67\n",
       "Medical                     66\n",
       "Food & Drink                44\n",
       "News                        23\n",
       "Weather                      5\n",
       "Stickers                     4\n",
       "Name: gamecategory, dtype: int64"
      ]
     },
     "execution_count": 6,
     "metadata": {},
     "output_type": "execute_result"
    }
   ],
   "source": [
    "data['gamecategory'].value_counts()"
   ]
  },
  {
   "cell_type": "code",
   "execution_count": 7,
   "id": "18782ff3",
   "metadata": {},
   "outputs": [
    {
     "data": {
      "text/plain": [
       "Puzzle                     4691498\n",
       "Action                     3412940\n",
       "Casual                     3242897\n",
       "Simulation                 2757136\n",
       "Word                       1827741\n",
       "Arcade                     1372731\n",
       "Strategy                   1276408\n",
       "Role Playing               1202308\n",
       "Card                       1041830\n",
       "Board                       883606\n",
       "Racing                      812515\n",
       "Adventure                   736299\n",
       "Tools                       666860\n",
       "None                        647453\n",
       "Sports                      576169\n",
       "Dating                      296753\n",
       "Shopping                    287733\n",
       "Music                       286998\n",
       "Productivity                222971\n",
       "Entertainment               218854\n",
       "Books & Reference           211505\n",
       "Health & Fitness            176483\n",
       "Video Players & Editors     151221\n",
       "Casino                      149003\n",
       "Trivia                      134411\n",
       "Music & Audio               115483\n",
       "Education                    86473\n",
       "Family                       77440\n",
       "Social                       63260\n",
       "Personalization              43270\n",
       "Communication                39698\n",
       "Weather                      39532\n",
       "Photography                  24996\n",
       "Beauty                       21010\n",
       "Finance                      20666\n",
       "Educational                  19208\n",
       "Lifestyle                    17900\n",
       "Food & Drink                  6614\n",
       "Maps & Navigation             4957\n",
       "Business                      4196\n",
       "Travel & Local                3957\n",
       "Auto & Vehicles               3357\n",
       "Art & Design                  3100\n",
       "Comics                        2278\n",
       "House & Home                  1477\n",
       "Libraries & Demo              1064\n",
       "Events                         646\n",
       "News & Magazines               500\n",
       "Utilities                      444\n",
       "Parenting                      173\n",
       "Medical                         64\n",
       "Art                              4\n",
       "Games                            1\n",
       "Name: subgamecategory, dtype: int64"
      ]
     },
     "execution_count": 7,
     "metadata": {},
     "output_type": "execute_result"
    }
   ],
   "source": [
    "data['subgamecategory'].value_counts()"
   ]
  },
  {
   "cell_type": "code",
   "execution_count": 8,
   "id": "5b93805f",
   "metadata": {},
   "outputs": [
    {
     "data": {
      "text/plain": [
       "com.fugo.wow                                       1678124\n",
       "net.wargaming.wot.blitz                            1101717\n",
       "com.openmygame.games.android.wordpizza              902581\n",
       "com.axlebolt.standoff2                              632030\n",
       "com.yourstoryinteractive.sails.pirate.adventure     491705\n",
       "                                                    ...   \n",
       "videoeditor.mixer.free                                   1\n",
       "com.spider.granny.horror.scarry.gamev1                   1\n",
       "com.boombitgames.CellConnect                             1\n",
       "com.Para.Dollidol.Dressup                                1\n",
       "com.toca.master                                          1\n",
       "Name: bundle, Length: 85797, dtype: int64"
      ]
     },
     "execution_count": 8,
     "metadata": {},
     "output_type": "execute_result"
    }
   ],
   "source": [
    "data['bundle'].value_counts()"
   ]
  },
  {
   "cell_type": "code",
   "execution_count": 9,
   "id": "8ef01950",
   "metadata": {},
   "outputs": [
    {
     "data": {
      "text/plain": [
       "MSK      26308751\n",
       "MSK+2     5987717\n",
       "MSK+3     2875851\n",
       "MSK+1     1895297\n",
       "MSK+7     1445292\n",
       "MSK+4     1098024\n",
       "MSK+5      821276\n",
       "MSK+6      535227\n",
       "MSK-1      198047\n",
       "MSK+9       76542\n",
       "MSK+8       21342\n",
       "Name: shift, dtype: int64"
      ]
     },
     "execution_count": 9,
     "metadata": {},
     "output_type": "execute_result"
    }
   ],
   "source": [
    "data['shift'].value_counts()"
   ]
  },
  {
   "cell_type": "code",
   "execution_count": 10,
   "id": "7efe976b",
   "metadata": {},
   "outputs": [
    {
     "data": {
      "text/plain": [
       "Москва                  7680369\n",
       "Свердловская область    3079042\n",
       "Санкт-Петербург         3070245\n",
       "Краснодарский край      2998397\n",
       "Татарстан               2243451\n",
       "                         ...   \n",
       "Витебская Область            36\n",
       "Gomelskaya Oblast            29\n",
       "Могилевская область          28\n",
       "Гродненская Область          24\n",
       "Минская Область              10\n",
       "Name: oblast, Length: 90, dtype: int64"
      ]
     },
     "execution_count": 10,
     "metadata": {},
     "output_type": "execute_result"
    }
   ],
   "source": [
    "data['oblast'].value_counts()"
   ]
  },
  {
   "cell_type": "code",
   "execution_count": 11,
   "id": "0603dc14",
   "metadata": {},
   "outputs": [
    {
     "data": {
      "text/plain": [
       "Москва             7644426\n",
       "Санкт-Петербург    3041452\n",
       "Екатеринбург       2692591\n",
       "Краснодар          2294394\n",
       "Казань             1891205\n",
       "                    ...   \n",
       "Осовцы                   1\n",
       "Дубовики                 1\n",
       "Логойск                  1\n",
       "Новогрудок               1\n",
       "Урдома                   1\n",
       "Name: city, Length: 2498, dtype: int64"
      ]
     },
     "execution_count": 11,
     "metadata": {},
     "output_type": "execute_result"
    }
   ],
   "source": [
    "data['city'].value_counts()"
   ]
  },
  {
   "cell_type": "code",
   "execution_count": 12,
   "id": "35cfca03",
   "metadata": {},
   "outputs": [
    {
     "data": {
      "text/plain": [
       "android    35245849\n",
       "ios         5248627\n",
       "Android     4253330\n",
       "iOS          106477\n",
       "Name: os, dtype: int64"
      ]
     },
     "execution_count": 12,
     "metadata": {},
     "output_type": "execute_result"
    }
   ],
   "source": [
    "data['os'].value_counts()"
   ]
  },
  {
   "cell_type": "code",
   "execution_count": 13,
   "id": "869b953f",
   "metadata": {},
   "outputs": [
    {
     "data": {
      "text/plain": [
       "10.0                  9447724\n",
       "11.0                  4693227\n",
       "9.0                   4542376\n",
       "10.0.0                4274736\n",
       "8.1.0                 2603022\n",
       "                       ...   \n",
       "iOS                         1\n",
       "22(10.0)                    1\n",
       "10.0 / API-29               1\n",
       "666.0.0                     1\n",
       "7.0_Lomaster_ROM.0          1\n",
       "Name: osv, Length: 254, dtype: int64"
      ]
     },
     "execution_count": 13,
     "metadata": {},
     "output_type": "execute_result"
    }
   ],
   "source": [
    "data['osv'].value_counts()"
   ]
  },
  {
   "cell_type": "markdown",
   "id": "568972ed",
   "metadata": {},
   "source": [
    "## Даты"
   ]
  },
  {
   "cell_type": "code",
   "execution_count": 14,
   "id": "4cf5517b",
   "metadata": {},
   "outputs": [
    {
     "data": {
      "text/plain": [
       "Timestamp('1970-01-01 03:00:00')"
      ]
     },
     "execution_count": 14,
     "metadata": {},
     "output_type": "execute_result"
    }
   ],
   "source": [
    "data['created'].min()"
   ]
  },
  {
   "cell_type": "markdown",
   "id": "8eb2df76",
   "metadata": {},
   "source": [
    "<div class='alert alert-info'> Особо одаренные пользовались смартфонами уже в 1970 году </div>"
   ]
  },
  {
   "cell_type": "code",
   "execution_count": 15,
   "id": "229139a3",
   "metadata": {},
   "outputs": [
    {
     "name": "stdout",
     "output_type": "stream",
     "text": [
      "Период данных: 2021-07-05 00:00:00 - 2021-09-20 23:59:40\n",
      "Количество дат 1970-01-01: 233\n"
     ]
    }
   ],
   "source": [
    "mask = data['created'] == data['created'].min()\n",
    "print(f\"Период данных: {data['created'][~mask].min()} - {data['created'].max()}\")\n",
    "print(f\"Количество дат 1970-01-01: {mask.sum()}\")"
   ]
  },
  {
   "cell_type": "markdown",
   "id": "e3cc5f17",
   "metadata": {},
   "source": [
    "<div class='alert alert-info'> 233 из почти 45 миллионов записей - можно удалить </div>"
   ]
  },
  {
   "cell_type": "markdown",
   "id": "2488becd",
   "metadata": {},
   "source": [
    "# Подготовка данных"
   ]
  },
  {
   "cell_type": "code",
   "execution_count": 16,
   "id": "52442f9c",
   "metadata": {},
   "outputs": [],
   "source": [
    "# Фильтрация\n",
    "def filter_data(data):\n",
    "    exclude_mask = data['created'] == pd.to_datetime('1970-01-01 03:00:00')\n",
    "    return data[~exclude_mask]    \n",
    "\n",
    "data = filter_data(data)"
   ]
  },
  {
   "cell_type": "code",
   "execution_count": 17,
   "id": "f4de6607",
   "metadata": {},
   "outputs": [
    {
     "data": {
      "text/plain": [
       "5    17187468\n",
       "3    14186984\n",
       "4    11141964\n",
       "2     1416243\n",
       "1      921624\n",
       "Name: Segment, dtype: int64"
      ]
     },
     "execution_count": 17,
     "metadata": {},
     "output_type": "execute_result"
    }
   ],
   "source": [
    "data['Segment'].value_counts()"
   ]
  },
  {
   "cell_type": "code",
   "execution_count": 18,
   "id": "4da55cd9",
   "metadata": {},
   "outputs": [
    {
     "name": "stdout",
     "output_type": "stream",
     "text": [
      "Wall time: 2min 21s\n"
     ]
    }
   ],
   "source": [
    "%%time\n",
    "\n",
    "# Приведение типа\n",
    "data['Segment'] = data['Segment'].astype('int8')\n",
    "\n",
    "# Заполнение пропусков\n",
    "data = data.fillna('missing')"
   ]
  },
  {
   "cell_type": "markdown",
   "id": "4915b154",
   "metadata": {},
   "source": [
    "# Генерация признаков"
   ]
  },
  {
   "cell_type": "code",
   "execution_count": 19,
   "id": "d7e63895",
   "metadata": {},
   "outputs": [],
   "source": [
    "def get_time_features(data):\n",
    "    data['hour_shift'] = data['shift'].apply(lambda x: x.replace('MSK', ''))\n",
    "    data['hour_shift'] = data['hour_shift'].replace({'': 0, 'missing': 0}).astype('int8')\n",
    "    \n",
    "    data['local_time'] = data['created'] + pd.to_timedelta('1H') * data['hour_shift']\n",
    "    data['month'] = data['local_time'].dt.month.astype('int8')\n",
    "    data['date'] = data['local_time'].dt.date\n",
    "    data['day'] = data['local_time'].dt.day.astype('int8')\n",
    "    data['wd'] = data['local_time'].dt.weekday.astype('int8')\n",
    "    data['hour'] = data['local_time'].dt.hour.astype('int8')\n",
    "    data['minutes'] = data['local_time'].dt.minute.astype('int8')\n",
    "    return data"
   ]
  },
  {
   "cell_type": "code",
   "execution_count": 20,
   "id": "6edceb47",
   "metadata": {},
   "outputs": [
    {
     "data": {
      "text/html": [
       "<div>\n",
       "<style scoped>\n",
       "    .dataframe tbody tr th:only-of-type {\n",
       "        vertical-align: middle;\n",
       "    }\n",
       "\n",
       "    .dataframe tbody tr th {\n",
       "        vertical-align: top;\n",
       "    }\n",
       "\n",
       "    .dataframe thead th {\n",
       "        text-align: right;\n",
       "    }\n",
       "</style>\n",
       "<table border=\"1\" class=\"dataframe\">\n",
       "  <thead>\n",
       "    <tr style=\"text-align: right;\">\n",
       "      <th></th>\n",
       "      <th>Segment</th>\n",
       "      <th>gamecategory</th>\n",
       "      <th>subgamecategory</th>\n",
       "      <th>bundle</th>\n",
       "      <th>created</th>\n",
       "      <th>shift</th>\n",
       "      <th>oblast</th>\n",
       "      <th>city</th>\n",
       "      <th>os</th>\n",
       "      <th>osv</th>\n",
       "    </tr>\n",
       "  </thead>\n",
       "  <tbody>\n",
       "    <tr>\n",
       "      <th>0</th>\n",
       "      <td>4</td>\n",
       "      <td>Games</td>\n",
       "      <td>Racing</td>\n",
       "      <td>com.MadOut.BIG</td>\n",
       "      <td>2021-07-05 18:07:40</td>\n",
       "      <td>MSK+6</td>\n",
       "      <td>Забайкальский Край</td>\n",
       "      <td>Чита</td>\n",
       "      <td>android</td>\n",
       "      <td>10.0</td>\n",
       "    </tr>\n",
       "    <tr>\n",
       "      <th>1</th>\n",
       "      <td>4</td>\n",
       "      <td>missing</td>\n",
       "      <td>missing</td>\n",
       "      <td>com.easybrain.solitaire.klondike.free</td>\n",
       "      <td>2021-07-10 10:38:42</td>\n",
       "      <td>MSK+2</td>\n",
       "      <td>Оренбургская область</td>\n",
       "      <td>Оренбург</td>\n",
       "      <td>Android</td>\n",
       "      <td>10.0.0</td>\n",
       "    </tr>\n",
       "  </tbody>\n",
       "</table>\n",
       "</div>"
      ],
      "text/plain": [
       "   Segment gamecategory subgamecategory  \\\n",
       "0        4        Games          Racing   \n",
       "1        4      missing         missing   \n",
       "\n",
       "                                  bundle             created  shift  \\\n",
       "0                         com.MadOut.BIG 2021-07-05 18:07:40  MSK+6   \n",
       "1  com.easybrain.solitaire.klondike.free 2021-07-10 10:38:42  MSK+2   \n",
       "\n",
       "                 oblast      city       os     osv  \n",
       "0    Забайкальский Край      Чита  android    10.0  \n",
       "1  Оренбургская область  Оренбург  Android  10.0.0  "
      ]
     },
     "execution_count": 20,
     "metadata": {},
     "output_type": "execute_result"
    }
   ],
   "source": [
    "data.head(2)"
   ]
  },
  {
   "cell_type": "code",
   "execution_count": 21,
   "id": "87fe04c3",
   "metadata": {},
   "outputs": [],
   "source": [
    "data = get_time_features(data)"
   ]
  },
  {
   "cell_type": "code",
   "execution_count": 22,
   "id": "4cf4c45f",
   "metadata": {},
   "outputs": [
    {
     "data": {
      "text/html": [
       "<div>\n",
       "<style scoped>\n",
       "    .dataframe tbody tr th:only-of-type {\n",
       "        vertical-align: middle;\n",
       "    }\n",
       "\n",
       "    .dataframe tbody tr th {\n",
       "        vertical-align: top;\n",
       "    }\n",
       "\n",
       "    .dataframe thead th {\n",
       "        text-align: right;\n",
       "    }\n",
       "</style>\n",
       "<table border=\"1\" class=\"dataframe\">\n",
       "  <thead>\n",
       "    <tr style=\"text-align: right;\">\n",
       "      <th></th>\n",
       "      <th>Segment</th>\n",
       "      <th>gamecategory</th>\n",
       "      <th>subgamecategory</th>\n",
       "      <th>bundle</th>\n",
       "      <th>created</th>\n",
       "      <th>shift</th>\n",
       "      <th>oblast</th>\n",
       "      <th>city</th>\n",
       "      <th>os</th>\n",
       "      <th>osv</th>\n",
       "      <th>hour_shift</th>\n",
       "      <th>local_time</th>\n",
       "      <th>month</th>\n",
       "      <th>date</th>\n",
       "      <th>day</th>\n",
       "      <th>wd</th>\n",
       "      <th>hour</th>\n",
       "      <th>minutes</th>\n",
       "    </tr>\n",
       "  </thead>\n",
       "  <tbody>\n",
       "    <tr>\n",
       "      <th>0</th>\n",
       "      <td>4</td>\n",
       "      <td>Games</td>\n",
       "      <td>Racing</td>\n",
       "      <td>com.MadOut.BIG</td>\n",
       "      <td>2021-07-05 18:07:40</td>\n",
       "      <td>MSK+6</td>\n",
       "      <td>Забайкальский Край</td>\n",
       "      <td>Чита</td>\n",
       "      <td>android</td>\n",
       "      <td>10.0</td>\n",
       "      <td>6</td>\n",
       "      <td>2021-07-06 00:07:40</td>\n",
       "      <td>7</td>\n",
       "      <td>2021-07-06</td>\n",
       "      <td>6</td>\n",
       "      <td>1</td>\n",
       "      <td>0</td>\n",
       "      <td>7</td>\n",
       "    </tr>\n",
       "    <tr>\n",
       "      <th>1</th>\n",
       "      <td>4</td>\n",
       "      <td>missing</td>\n",
       "      <td>missing</td>\n",
       "      <td>com.easybrain.solitaire.klondike.free</td>\n",
       "      <td>2021-07-10 10:38:42</td>\n",
       "      <td>MSK+2</td>\n",
       "      <td>Оренбургская область</td>\n",
       "      <td>Оренбург</td>\n",
       "      <td>Android</td>\n",
       "      <td>10.0.0</td>\n",
       "      <td>2</td>\n",
       "      <td>2021-07-10 12:38:42</td>\n",
       "      <td>7</td>\n",
       "      <td>2021-07-10</td>\n",
       "      <td>10</td>\n",
       "      <td>5</td>\n",
       "      <td>12</td>\n",
       "      <td>38</td>\n",
       "    </tr>\n",
       "  </tbody>\n",
       "</table>\n",
       "</div>"
      ],
      "text/plain": [
       "   Segment gamecategory subgamecategory  \\\n",
       "0        4        Games          Racing   \n",
       "1        4      missing         missing   \n",
       "\n",
       "                                  bundle             created  shift  \\\n",
       "0                         com.MadOut.BIG 2021-07-05 18:07:40  MSK+6   \n",
       "1  com.easybrain.solitaire.klondike.free 2021-07-10 10:38:42  MSK+2   \n",
       "\n",
       "                 oblast      city       os     osv  hour_shift  \\\n",
       "0    Забайкальский Край      Чита  android    10.0           6   \n",
       "1  Оренбургская область  Оренбург  Android  10.0.0           2   \n",
       "\n",
       "           local_time  month        date  day  wd  hour  minutes  \n",
       "0 2021-07-06 00:07:40      7  2021-07-06    6   1     0        7  \n",
       "1 2021-07-10 12:38:42      7  2021-07-10   10   5    12       38  "
      ]
     },
     "execution_count": 22,
     "metadata": {},
     "output_type": "execute_result"
    }
   ],
   "source": [
    "data.head(2)"
   ]
  },
  {
   "cell_type": "code",
   "execution_count": 23,
   "id": "c7d1a613",
   "metadata": {},
   "outputs": [
    {
     "name": "stdout",
     "output_type": "stream",
     "text": [
      "<class 'pandas.core.frame.DataFrame'>\n",
      "Int64Index: 44854283 entries, 0 to 44854515\n",
      "Data columns (total 18 columns):\n",
      " #   Column           Dtype         \n",
      "---  ------           -----         \n",
      " 0   Segment          int8          \n",
      " 1   gamecategory     object        \n",
      " 2   subgamecategory  object        \n",
      " 3   bundle           object        \n",
      " 4   created          datetime64[ns]\n",
      " 5   shift            object        \n",
      " 6   oblast           object        \n",
      " 7   city             object        \n",
      " 8   os               object        \n",
      " 9   osv              object        \n",
      " 10  hour_shift       int8          \n",
      " 11  local_time       datetime64[ns]\n",
      " 12  month            int8          \n",
      " 13  date             object        \n",
      " 14  day              int8          \n",
      " 15  wd               int8          \n",
      " 16  hour             int8          \n",
      " 17  minutes          int8          \n",
      "dtypes: datetime64[ns](2), int8(7), object(9)\n",
      "memory usage: 4.3+ GB\n"
     ]
    }
   ],
   "source": [
    "data.info()"
   ]
  },
  {
   "cell_type": "code",
   "execution_count": 26,
   "id": "2341cb22",
   "metadata": {},
   "outputs": [],
   "source": [
    "with open('../data/processed/data.pcl', 'wb') as f:\n",
    "    pickle.dump(data, f)"
   ]
  },
  {
   "cell_type": "markdown",
   "id": "7c5e629e",
   "metadata": {},
   "source": [
    "# Train test split"
   ]
  },
  {
   "cell_type": "code",
   "execution_count": null,
   "id": "9c756ead",
   "metadata": {},
   "outputs": [],
   "source": [
    "data['date'].value_counts().sort_index()"
   ]
  },
  {
   "cell_type": "code",
   "execution_count": null,
   "id": "94867bd5",
   "metadata": {},
   "outputs": [],
   "source": [
    "%%time\n",
    "train = data[data['date'] <= pd.to_datetime('2021-08-09')]\n",
    "test = data[data['date'] > pd.to_datetime('2021-08-09')]"
   ]
  },
  {
   "cell_type": "code",
   "execution_count": null,
   "id": "bd84b2cf",
   "metadata": {},
   "outputs": [],
   "source": [
    "with open('../data/processed/train.pcl', 'wb') as f:\n",
    "    pickle.dump(train, f)"
   ]
  },
  {
   "cell_type": "code",
   "execution_count": null,
   "id": "6f097827",
   "metadata": {},
   "outputs": [],
   "source": [
    "with open('../data/processed/test.pcl', 'wb') as f:\n",
    "    pickle.dump(test, f)"
   ]
  },
  {
   "cell_type": "code",
   "execution_count": null,
   "id": "10ff919d",
   "metadata": {},
   "outputs": [],
   "source": [
    "train.head(2)"
   ]
  }
 ],
 "metadata": {
  "kernelspec": {
   "display_name": "RaifHack",
   "language": "python",
   "name": "raifhack"
  },
  "language_info": {
   "codemirror_mode": {
    "name": "ipython",
    "version": 3
   },
   "file_extension": ".py",
   "mimetype": "text/x-python",
   "name": "python",
   "nbconvert_exporter": "python",
   "pygments_lexer": "ipython3",
   "version": "3.9.5"
  },
  "toc": {
   "base_numbering": 1,
   "nav_menu": {},
   "number_sections": false,
   "sideBar": true,
   "skip_h1_title": false,
   "title_cell": "Содержание",
   "title_sidebar": "Contents",
   "toc_cell": false,
   "toc_position": {
    "height": "calc(100% - 180px)",
    "left": "10px",
    "top": "150px",
    "width": "355.516px"
   },
   "toc_section_display": true,
   "toc_window_display": true
  }
 },
 "nbformat": 4,
 "nbformat_minor": 5
}
