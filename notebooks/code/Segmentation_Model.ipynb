{
 "cells": [
  {
   "cell_type": "code",
   "execution_count": 1,
   "id": "ada40439",
   "metadata": {},
   "outputs": [],
   "source": [
    "import gc\n",
    "import sys\n",
    "import pickle\n",
    "import numpy as np\n",
    "import pandas as pd\n",
    "from IPython.display import display\n",
    "import matplotlib.pyplot as plt\n",
    "\n",
    "from catboost import CatBoostClassifier, Pool\n",
    "from sklearn.metrics import roc_auc_score\n",
    "\n",
    "import warnings\n",
    "warnings.filterwarnings('ignore')\n",
    "\n",
    "sys.path.append('utils')\n",
    "from plot_utils import fast_plot, fast_hist, fast_legend, feature_snapshot"
   ]
  },
  {
   "cell_type": "markdown",
   "id": "6c454be0",
   "metadata": {},
   "source": [
    "# Загрузка данных"
   ]
  },
  {
   "cell_type": "code",
   "execution_count": 2,
   "id": "2f2f1398",
   "metadata": {},
   "outputs": [
    {
     "name": "stdout",
     "output_type": "stream",
     "text": [
      "Wall time: 26.3 s\n"
     ]
    },
    {
     "data": {
      "text/plain": [
       "0"
      ]
     },
     "execution_count": 2,
     "metadata": {},
     "output_type": "execute_result"
    }
   ],
   "source": [
    "%%time\n",
    "with open('../data/processed/train.pcl', 'rb') as f:\n",
    "    train = pickle.load(f)\n",
    "    \n",
    "with open('../data/processed/test.pcl', 'rb') as f:\n",
    "    test = pickle.load(f)\n",
    "    \n",
    "gc.collect()"
   ]
  },
  {
   "cell_type": "code",
   "execution_count": 3,
   "id": "83b1ece9",
   "metadata": {},
   "outputs": [],
   "source": [
    "def get_time_features(data):\n",
    "    data['hour_shift'] = data['shift'].apply(lambda x: x.replace('MSK', ''))\n",
    "    data['hour_shift'] = data['hour_shift'].replace({'': 0, 'missing': 0}).astype('int8')\n",
    "    \n",
    "    data['local_time'] = data['created'] + pd.to_timedelta('1H') * data['hour_shift']\n",
    "    data['month'] = data['local_time'].dt.month.astype('int8')\n",
    "    data['date'] = data['local_time'].dt.date\n",
    "    data['day'] = data['local_time'].dt.day.astype('int8')\n",
    "    data['wd'] = data['local_time'].dt.weekday.astype('int8')\n",
    "    data['hour'] = data['local_time'].dt.hour.astype('int8')\n",
    "    data['minutes'] = data['local_time'].dt.minute.astype('int8')\n",
    "    return data"
   ]
  },
  {
   "cell_type": "code",
   "execution_count": 4,
   "id": "8f7d2c4e",
   "metadata": {},
   "outputs": [
    {
     "name": "stdout",
     "output_type": "stream",
     "text": [
      "Wall time: 8.35 s\n"
     ]
    }
   ],
   "source": [
    "%%time\n",
    "test = get_time_features(test)"
   ]
  },
  {
   "cell_type": "markdown",
   "id": "93b43c8d",
   "metadata": {},
   "source": [
    "# Параметры модели"
   ]
  },
  {
   "cell_type": "code",
   "execution_count": 5,
   "id": "4fb8b436",
   "metadata": {},
   "outputs": [],
   "source": [
    "target = 'Segment'\n",
    "features = ['gamecategory', 'subgamecategory', 'bundle', 'oblast', 'city', 'os', 'osv', 'day', 'wd', 'hour', 'minutes']\n",
    "cat_features = ['gamecategory', 'subgamecategory', 'bundle', 'oblast', 'city', 'os', 'osv']"
   ]
  },
  {
   "cell_type": "code",
   "execution_count": 6,
   "id": "4c28fafb",
   "metadata": {},
   "outputs": [
    {
     "name": "stdout",
     "output_type": "stream",
     "text": [
      "Wall time: 13.8 s\n"
     ]
    }
   ],
   "source": [
    "%%time\n",
    "train = train.sort_values(target)"
   ]
  },
  {
   "cell_type": "code",
   "execution_count": 7,
   "id": "9ef41b5c",
   "metadata": {},
   "outputs": [],
   "source": [
    "# Model params\n",
    "cat_features = ['gamecategory', 'subgamecategory', 'bundle', 'oblast', 'city', 'os', 'osv']\n",
    "\n",
    "split_params = {'folds': 5}\n",
    "\n",
    "model_params = {'objective': 'MultiClass', \n",
    "                'iterations':100,\n",
    "                'learning_rate':0.2,               \n",
    "                'depth': 5, \n",
    "                'l2_leaf_reg': 50,  \n",
    "                'one_hot_max_size': 3,\n",
    "                'task_type': 'GPU',\n",
    "                'has_time': False,\n",
    "                'random_state': 20210926                \n",
    "               }\n",
    "\n",
    "train_params = {'early_stopping_rounds': 150, \n",
    "                'silent': True,\n",
    "                'plot': True               \n",
    "               }\n",
    "\n",
    "gpu_params = {'devices': '0',\n",
    "              'data_partition': 'DocParallel',\n",
    "              'max_ctr_complexity': 4,\n",
    "              'border_count': 128, \n",
    "              'fold_permutation_block': 0,\n",
    "              'simple_ctr':'FeatureFreq',\n",
    "              'combinations_ctr': 'FeatureFreq',      \n",
    "              'ctr_target_border_count': 1,\n",
    "              'random_strength': 0.95,\n",
    "              'gpu_ram_part': 0.95\n",
    "             }\n",
    "\n",
    "\n",
    "cpu_params = {'thread_count': 14}\n",
    "\n",
    "features_params = {'cat_features': cat_features}\n",
    "\n",
    "observations_params = {\"weight\": 'not_implemented'}\n",
    "\n",
    "params = {'split_params': split_params, \n",
    "          'model_params': model_params, \n",
    "          'train_params': train_params, \n",
    "          'gpu_params': gpu_params, \n",
    "          'cpu_params': cpu_params, \n",
    "          'features_params': features_params, \n",
    "          'observations_params': observations_params\n",
    "         }"
   ]
  },
  {
   "cell_type": "code",
   "execution_count": 8,
   "id": "2b53f3a2",
   "metadata": {},
   "outputs": [],
   "source": [
    "class Model():\n",
    "    def __init__(self, params):\n",
    "        self.params = params\n",
    "        self.device = params['model_params']['task_type']\n",
    "        self.model_params = params['model_params']\n",
    "        self.folds = params['split_params']['folds']        \n",
    "        self.train_params = params['train_params']\n",
    "        self.gpu_params = params['gpu_params']\n",
    "        self.cpu_params = params['cpu_params']\n",
    "        self.features_params = params['features_params']\n",
    "        self.observations_params = params['observations_params'] \n",
    "        self.models = []\n",
    "        self.model_predictions = []\n",
    "        self.predictions_summary = None        \n",
    "        self.importance = []\n",
    "        self.features = None\n",
    "        \n",
    "    def fit(self, X, y): \n",
    "        self.features = X.columns\n",
    "        self.model_params = self.model_params | self.gpu_params if self.device == 'GPU' else \\\n",
    "            self.model_params | self.cpu_params   \n",
    "        \n",
    "        for fold in range(self.folds):\n",
    "            print(f'\\nFold: {fold + 1}')\n",
    "            self.model_params['random_state'] += 1 \n",
    "            \n",
    "            if self.folds > 1:\n",
    "                train_idx = [x for x in range(X.shape[0]) if x%self.folds != fold]\n",
    "                val_idx = [x for x in range(X.shape[0]) if x%self.folds == fold]            \n",
    "            \n",
    "                X_train = X.iloc[train_idx]\n",
    "                y_train = y.iloc[train_idx]\n",
    "            \n",
    "                X_val = X.iloc[val_idx]\n",
    "                y_val = y.iloc[val_idx] \n",
    "            else:\n",
    "                X_train = X\n",
    "                y_train = y\n",
    "\n",
    "            train_dataset = Pool(data=X_train, label=y_train, **self.features_params)                \n",
    "           \n",
    "            model = CatBoostClassifier(**self.model_params)    \n",
    "            \n",
    "            if self.folds > 1:\n",
    "                eval_dataset = Pool(data=X_val, label=y_val, **self.features_params)  \n",
    "                model.fit(train_dataset, eval_set=eval_dataset, **self.train_params)\n",
    "            else:\n",
    "                model.fit(train_dataset,  **self.train_params)\n",
    "            \n",
    "            self.models.append(model.copy())   \n",
    "\n",
    "        self.calculate_importance()\n",
    "            \n",
    "        \n",
    "    def predict(self, X):\n",
    "        self.model_predictions = []\n",
    "        for model_number in range(self.folds):    \n",
    "            model = self.models[model_number]\n",
    "            columns = [str(x) + '__' + str(model_number) for x in model.get_all_params()['class_names']]\n",
    "            df = pd.DataFrame(data=model.predict_proba(X), columns=columns)\n",
    "            self.model_predictions.append(df)  \n",
    "    \n",
    "        self.predictions_summary = pd.concat(self.model_predictions, axis=1)\n",
    "\n",
    "        labels = model.get_all_params()['class_names']\n",
    "        for label in labels:\n",
    "            label_columns = [x for x in self.predictions_summary.columns if f'{label}__' in str(x)]\n",
    "            self.predictions_summary[label] = self.predictions_summary[label_columns].mean(axis=1)\n",
    "\n",
    "        self.predictions_summary['prediction'] = self.predictions_summary[labels].idxmax(axis=1)\n",
    "        self.predictions_summary['confidence'] = self.predictions_summary[labels].max(axis=1)\n",
    "                    \n",
    "        return self.predictions_summary  \n",
    "  \n",
    "   \n",
    "    def save_models(self, path):\n",
    "        for model_number, model in enumerate(self.models):\n",
    "            model.save_model(path + f\"model{model_number}.cbm\")\n",
    "            \n",
    "    def load_models(self, path, file_prefix=''):\n",
    "        for model_number in range(self.folds):\n",
    "            model = CatBoostClassifier()\n",
    "            model.load_model(path.joinpath(f\"{file_prefix}model{model_number}.cbm\"))\n",
    "            self.models.append(model.copy())\n",
    "            \n",
    "    def calculate_importance(self):\n",
    "        for model_number in range(self.folds):\n",
    "            fi_dict = list(zip(self.features, self.models[model_number].feature_importances_))\n",
    "            importance_df = pd.DataFrame.from_records(fi_dict).set_index(0)\n",
    "            importance_df.columns = ['importance']\n",
    "            importance_df = importance_df.sort_values('importance', ascending=False)\n",
    "            self.importance.append(importance_df) "
   ]
  },
  {
   "cell_type": "code",
   "execution_count": 9,
   "id": "07db326f",
   "metadata": {
    "scrolled": false
   },
   "outputs": [
    {
     "name": "stdout",
     "output_type": "stream",
     "text": [
      "\n",
      "Fold: 1\n"
     ]
    },
    {
     "data": {
      "application/vnd.jupyter.widget-view+json": {
       "model_id": "87f93d48576048c894b9f94f0fb2d7da",
       "version_major": 2,
       "version_minor": 0
      },
      "text/plain": [
       "MetricVisualizer(layout=Layout(align_self='stretch', height='500px'))"
      ]
     },
     "metadata": {},
     "output_type": "display_data"
    },
    {
     "name": "stdout",
     "output_type": "stream",
     "text": [
      "\n",
      "Fold: 2\n"
     ]
    },
    {
     "data": {
      "application/vnd.jupyter.widget-view+json": {
       "model_id": "7cfad4446d234c929a65acfdafe039b9",
       "version_major": 2,
       "version_minor": 0
      },
      "text/plain": [
       "MetricVisualizer(layout=Layout(align_self='stretch', height='500px'))"
      ]
     },
     "metadata": {},
     "output_type": "display_data"
    },
    {
     "name": "stdout",
     "output_type": "stream",
     "text": [
      "\n",
      "Fold: 3\n"
     ]
    },
    {
     "data": {
      "application/vnd.jupyter.widget-view+json": {
       "model_id": "149ba699d67845e9b67e4a1c7172987b",
       "version_major": 2,
       "version_minor": 0
      },
      "text/plain": [
       "MetricVisualizer(layout=Layout(align_self='stretch', height='500px'))"
      ]
     },
     "metadata": {},
     "output_type": "display_data"
    },
    {
     "name": "stdout",
     "output_type": "stream",
     "text": [
      "\n",
      "Fold: 4\n"
     ]
    },
    {
     "data": {
      "application/vnd.jupyter.widget-view+json": {
       "model_id": "df952fc9c9ea4305a632a32cd146c648",
       "version_major": 2,
       "version_minor": 0
      },
      "text/plain": [
       "MetricVisualizer(layout=Layout(align_self='stretch', height='500px'))"
      ]
     },
     "metadata": {},
     "output_type": "display_data"
    },
    {
     "name": "stdout",
     "output_type": "stream",
     "text": [
      "\n",
      "Fold: 5\n"
     ]
    },
    {
     "data": {
      "application/vnd.jupyter.widget-view+json": {
       "model_id": "cb3b73b1d2524e92acf9afcf849d8765",
       "version_major": 2,
       "version_minor": 0
      },
      "text/plain": [
       "MetricVisualizer(layout=Layout(align_self='stretch', height='500px'))"
      ]
     },
     "metadata": {},
     "output_type": "display_data"
    },
    {
     "name": "stdout",
     "output_type": "stream",
     "text": [
      "Wall time: 9min 17s\n"
     ]
    }
   ],
   "source": [
    "%%time\n",
    "model = Model(params)\n",
    "model.fit(train[features], train[target])"
   ]
  },
  {
   "cell_type": "code",
   "execution_count": 10,
   "id": "994247ff",
   "metadata": {},
   "outputs": [],
   "source": [
    "model.save_models(path='models/segmentation_model_')"
   ]
  },
  {
   "cell_type": "code",
   "execution_count": 11,
   "id": "25edb608",
   "metadata": {},
   "outputs": [
    {
     "data": {
      "text/html": [
       "<div>\n",
       "<style scoped>\n",
       "    .dataframe tbody tr th:only-of-type {\n",
       "        vertical-align: middle;\n",
       "    }\n",
       "\n",
       "    .dataframe tbody tr th {\n",
       "        vertical-align: top;\n",
       "    }\n",
       "\n",
       "    .dataframe thead th {\n",
       "        text-align: right;\n",
       "    }\n",
       "</style>\n",
       "<table border=\"1\" class=\"dataframe\">\n",
       "  <thead>\n",
       "    <tr style=\"text-align: right;\">\n",
       "      <th></th>\n",
       "      <th>importance</th>\n",
       "    </tr>\n",
       "    <tr>\n",
       "      <th>0</th>\n",
       "      <th></th>\n",
       "    </tr>\n",
       "  </thead>\n",
       "  <tbody>\n",
       "    <tr>\n",
       "      <th>day</th>\n",
       "      <td>50.611968</td>\n",
       "    </tr>\n",
       "    <tr>\n",
       "      <th>wd</th>\n",
       "      <td>18.496342</td>\n",
       "    </tr>\n",
       "    <tr>\n",
       "      <th>hour</th>\n",
       "      <td>15.137890</td>\n",
       "    </tr>\n",
       "    <tr>\n",
       "      <th>os</th>\n",
       "      <td>7.425163</td>\n",
       "    </tr>\n",
       "    <tr>\n",
       "      <th>oblast</th>\n",
       "      <td>3.236983</td>\n",
       "    </tr>\n",
       "    <tr>\n",
       "      <th>osv</th>\n",
       "      <td>1.867206</td>\n",
       "    </tr>\n",
       "    <tr>\n",
       "      <th>subgamecategory</th>\n",
       "      <td>1.690187</td>\n",
       "    </tr>\n",
       "    <tr>\n",
       "      <th>bundle</th>\n",
       "      <td>1.151699</td>\n",
       "    </tr>\n",
       "    <tr>\n",
       "      <th>minutes</th>\n",
       "      <td>0.313581</td>\n",
       "    </tr>\n",
       "    <tr>\n",
       "      <th>gamecategory</th>\n",
       "      <td>0.068981</td>\n",
       "    </tr>\n",
       "    <tr>\n",
       "      <th>city</th>\n",
       "      <td>0.000000</td>\n",
       "    </tr>\n",
       "  </tbody>\n",
       "</table>\n",
       "</div>"
      ],
      "text/plain": [
       "                 importance\n",
       "0                          \n",
       "day               50.611968\n",
       "wd                18.496342\n",
       "hour              15.137890\n",
       "os                 7.425163\n",
       "oblast             3.236983\n",
       "osv                1.867206\n",
       "subgamecategory    1.690187\n",
       "bundle             1.151699\n",
       "minutes            0.313581\n",
       "gamecategory       0.068981\n",
       "city               0.000000"
      ]
     },
     "execution_count": 11,
     "metadata": {},
     "output_type": "execute_result"
    }
   ],
   "source": [
    "model.importance[0]"
   ]
  },
  {
   "cell_type": "markdown",
   "id": "6441089a",
   "metadata": {},
   "source": [
    "# Оценка модели\n",
    "Метрика для задачи классификации используйте ROC-AUC (one vs rest)"
   ]
  },
  {
   "cell_type": "code",
   "execution_count": 12,
   "id": "7df01c3a",
   "metadata": {},
   "outputs": [
    {
     "name": "stdout",
     "output_type": "stream",
     "text": [
      "(14856099, 26)\n",
      "Wall time: 2min 57s\n"
     ]
    }
   ],
   "source": [
    "%%time\n",
    "preds = model.predict(test[features])\n",
    "print(preds.shape)"
   ]
  },
  {
   "cell_type": "code",
   "execution_count": 13,
   "id": "0d4e852e",
   "metadata": {},
   "outputs": [],
   "source": [
    "def calculate_score(true, preds):\n",
    "    print(f'Labels equals: {true.unique() == preds[\"prediction\"].unique()}')\n",
    "    labels = [x for x in true.unique() if x in preds[\"prediction\"].unique()]\n",
    "    print(labels)\n",
    "    for label in labels:\n",
    "        true_ = (test[target] == label).astype(int).values\n",
    "        preds_ = preds[label].values\n",
    "        score = np.round(roc_auc_score(true_, preds_), 3)\n",
    "        print(f'Label: {label}, score: {score}')"
   ]
  },
  {
   "cell_type": "code",
   "execution_count": 14,
   "id": "ed5ac9e3",
   "metadata": {},
   "outputs": [
    {
     "name": "stdout",
     "output_type": "stream",
     "text": [
      "Labels equals: False\n",
      "[3, 4, 1]\n",
      "Label: 3, score: 0.456\n",
      "Label: 4, score: 0.566\n",
      "Label: 1, score: 0.577\n"
     ]
    }
   ],
   "source": [
    "calculate_score(test[target], preds)"
   ]
  },
  {
   "cell_type": "code",
   "execution_count": 15,
   "id": "cc4b511e",
   "metadata": {},
   "outputs": [
    {
     "data": {
      "text/html": [
       "<div>\n",
       "<style scoped>\n",
       "    .dataframe tbody tr th:only-of-type {\n",
       "        vertical-align: middle;\n",
       "    }\n",
       "\n",
       "    .dataframe tbody tr th {\n",
       "        vertical-align: top;\n",
       "    }\n",
       "\n",
       "    .dataframe thead th {\n",
       "        text-align: right;\n",
       "    }\n",
       "</style>\n",
       "<table border=\"1\" class=\"dataframe\">\n",
       "  <thead>\n",
       "    <tr style=\"text-align: right;\">\n",
       "      <th>prediction</th>\n",
       "      <th>1</th>\n",
       "      <th>3</th>\n",
       "      <th>4</th>\n",
       "    </tr>\n",
       "    <tr>\n",
       "      <th>Segment</th>\n",
       "      <th></th>\n",
       "      <th></th>\n",
       "      <th></th>\n",
       "    </tr>\n",
       "  </thead>\n",
       "  <tbody>\n",
       "    <tr>\n",
       "      <th>1</th>\n",
       "      <td>42</td>\n",
       "      <td>56886</td>\n",
       "      <td>9659</td>\n",
       "    </tr>\n",
       "    <tr>\n",
       "      <th>2</th>\n",
       "      <td>284</td>\n",
       "      <td>400403</td>\n",
       "      <td>69100</td>\n",
       "    </tr>\n",
       "    <tr>\n",
       "      <th>3</th>\n",
       "      <td>815</td>\n",
       "      <td>1167651</td>\n",
       "      <td>200746</td>\n",
       "    </tr>\n",
       "    <tr>\n",
       "      <th>4</th>\n",
       "      <td>341</td>\n",
       "      <td>486754</td>\n",
       "      <td>83624</td>\n",
       "    </tr>\n",
       "    <tr>\n",
       "      <th>5</th>\n",
       "      <td>1457</td>\n",
       "      <td>2085458</td>\n",
       "      <td>358763</td>\n",
       "    </tr>\n",
       "  </tbody>\n",
       "</table>\n",
       "</div>"
      ],
      "text/plain": [
       "prediction     1        3       4\n",
       "Segment                          \n",
       "1             42    56886    9659\n",
       "2            284   400403   69100\n",
       "3            815  1167651  200746\n",
       "4            341   486754   83624\n",
       "5           1457  2085458  358763"
      ]
     },
     "execution_count": 15,
     "metadata": {},
     "output_type": "execute_result"
    }
   ],
   "source": [
    "pd.crosstab(test[target], preds['prediction'])"
   ]
  },
  {
   "cell_type": "markdown",
   "id": "1fe01126",
   "metadata": {},
   "source": [
    "# Анализ распределений в test и train"
   ]
  },
  {
   "cell_type": "code",
   "execution_count": 16,
   "id": "5eccb57b",
   "metadata": {
    "scrolled": false
   },
   "outputs": [
    {
     "data": {
      "image/png": "[encoded data removed]",
      "text/plain": [
       "<Figure size 864x864 with 5 Axes>"
      ]
     },
     "metadata": {
      "needs_background": "light"
     },
     "output_type": "display_data"
    }
   ],
   "source": [
    "new_figure = True\n",
    "count = 0\n",
    "fig, ax = plt.subplots(nrows=5, figsize=(12, 12), sharex=True)\n",
    "\n",
    "for segment in test['Segment'].unique():   \n",
    "    \n",
    "    mask = train['Segment'] == segment\n",
    "    fast_plot(train[mask].set_index('created').groupby('date')['Segment'].count(), \n",
    "              plot=False, new_figure=new_figure, title=f'Segment {segment}', label='train', ax=ax[count])\n",
    "    new_figure = False\n",
    "    mask = test['Segment'] == segment\n",
    "    fast_plot(test[mask].set_index('created').groupby('date')['Segment'].count(), ax=ax[count], \n",
    "              plot=False, new_figure=new_figure, label='test')\n",
    "    plt.xticks(rotation=30)\n",
    "    new_figure = True\n",
    "    \n",
    "    #plt.show()\n",
    "    count += 1\n",
    "\n",
    "fast_legend(pos=(0.5, -0.3))    \n",
    "plt.tight_layout()"
   ]
  },
  {
   "cell_type": "code",
   "execution_count": 22,
   "id": "6828c90c",
   "metadata": {},
   "outputs": [
    {
     "name": "stdout",
     "output_type": "stream",
     "text": [
      "Wall time: 2min 19s\n"
     ]
    },
    {
     "data": {
      "text/plain": [
       "<matplotlib.legend.Legend at 0x1995e970cd0>"
      ]
     },
     "execution_count": 22,
     "metadata": {},
     "output_type": "execute_result"
    },
    {
     "data": {
      "image/png": "[encoded data removed]",
      "text/plain": [
       "<Figure size 864x288 with 1 Axes>"
      ]
     },
     "metadata": {},
     "output_type": "display_data"
    }
   ],
   "source": [
    "%%time\n",
    "train['moscow_date'] = train['created'].dt.date\n",
    "test['moscow_date'] = test['created'].dt.date\n",
    "data = pd.concat([train, test])\n",
    "new_figure = True\n",
    "\n",
    "for segment in range(1, 6): \n",
    "    mask = data['Segment'] == segment\n",
    "    fast_plot(data[mask].set_index('created').groupby('moscow_date')['Segment'].count(), new_figure=new_figure, \n",
    "              alpha=1, size=200,\n",
    "              plot=False, title='Количество пользователей из разных сегментов за сутки', label=f'Сегмент №{segment}')\n",
    "    new_figure = False\n",
    "\n",
    "fast_legend(ncol=1, pos=(0.637, 0.99));"
   ]
  },
  {
   "cell_type": "markdown",
   "id": "393926a1",
   "metadata": {},
   "source": [
    "# Вопросы\n",
    "\n",
    "Первая неделя - сегменты 1,3,4  \n",
    "Вторая неделя - сегменты 3,4,5  \n",
    "Третья неделя - сегменты 1,2,3,4,5  \n",
    "\n",
    "<div class=\"alert alert-warning\"> Вопрос: сегментация проводилась в рамках отдельных рекламных кампаний? </div>\n",
    "<div class=\"alert alert-warning\"> Вопрос: сегменты - это пользователи которые откликнулись на рекламу? </div>"
   ]
  },
  {
   "cell_type": "markdown",
   "id": "ff93d097",
   "metadata": {},
   "source": [
    "# Сохранение в py файл"
   ]
  },
  {
   "cell_type": "code",
   "execution_count": 18,
   "id": "516d274e",
   "metadata": {},
   "outputs": [
    {
     "name": "stdout",
     "output_type": "stream",
     "text": [
      "Overwriting predict.py\n"
     ]
    }
   ],
   "source": [
    "%%writefile predict.py\n",
    "\n",
    "import os\n",
    "import pickle\n",
    "import pathlib\n",
    "import pandas as pd\n",
    "import numpy as np\n",
    "from catboost import CatBoostClassifier\n",
    "\n",
    "# Model params\n",
    "cat_features = ['gamecategory', 'subgamecategory', 'bundle', 'oblast', 'city', 'os', 'osv']\n",
    "\n",
    "split_params = {'folds': 5}\n",
    "\n",
    "model_params = {'objective': 'MultiClass', \n",
    "                'iterations':3,\n",
    "                'learning_rate':0.05,               \n",
    "                'depth': 4, \n",
    "                'l2_leaf_reg': 50,  \n",
    "                'one_hot_max_size': 15,\n",
    "                'task_type': 'CPU',\n",
    "                'has_time': False,\n",
    "                'random_state': 20210926                \n",
    "               }\n",
    "\n",
    "train_params = {'early_stopping_rounds': 150, \n",
    "                'silent': True,\n",
    "                'plot': True               \n",
    "               }\n",
    "\n",
    "gpu_params = {'devices': '0',\n",
    "              'data_partition': 'DocParallel',\n",
    "              'max_ctr_complexity': 4,\n",
    "#              'bootstrap_type': 'MVS',\n",
    "              'border_count': 128, \n",
    "              'fold_permutation_block': 0,\n",
    "              'simple_ctr':'FeatureFreq',\n",
    "              'combinations_ctr': 'FeatureFreq',      \n",
    "              'ctr_target_border_count': 1,\n",
    "              'random_strength': 0.95,\n",
    "              'gpu_ram_part': 0.95\n",
    "             }\n",
    "\n",
    "\n",
    "cpu_params = {'thread_count': 14}\n",
    "\n",
    "features_params = {'cat_features': cat_features}\n",
    "\n",
    "observations_params = {\"weight\": 'not_implemented'}\n",
    "\n",
    "params = {'split_params': split_params, \n",
    "          'model_params': model_params, \n",
    "          'train_params': train_params, \n",
    "          'gpu_params': gpu_params, \n",
    "          'cpu_params': cpu_params, \n",
    "          'features_params': features_params, \n",
    "          'observations_params': observations_params\n",
    "         }\n",
    "\n",
    "def get_time_features(data):\n",
    "    data['hour_shift'] = data['shift'].apply(lambda x: x.replace('MSK', ''))\n",
    "    data['hour_shift'] = data['hour_shift'].replace({'': 0, 'missing': 0}).astype('int8')\n",
    "    \n",
    "    data['local_time'] = data['created'] + pd.to_timedelta('1H') * data['hour_shift']\n",
    "    data['month'] = data['local_time'].dt.month.astype('int8')\n",
    "    data['date'] = data['local_time'].dt.date\n",
    "    data['day'] = data['local_time'].dt.day.astype('int8')\n",
    "    data['wd'] = data['local_time'].dt.weekday.astype('int8')\n",
    "    data['hour'] = data['local_time'].dt.hour.astype('int8')\n",
    "    data['minutes'] = data['local_time'].dt.minute.astype('int8')\n",
    "    return data\n",
    "\n",
    "\n",
    "class Model():\n",
    "    def __init__(self, params):\n",
    "        self.params = params\n",
    "        self.device = params['model_params']['task_type']\n",
    "        self.model_params = params['model_params']\n",
    "        self.folds = params['split_params']['folds']        \n",
    "        self.train_params = params['train_params']\n",
    "        self.gpu_params = params['gpu_params']\n",
    "        self.cpu_params = params['cpu_params']\n",
    "        self.features_params = params['features_params']\n",
    "        self.observations_params = params['observations_params'] \n",
    "        self.models = []\n",
    "        self.model_predictions = []\n",
    "        self.predictions_summary = None        \n",
    "        self.importance = []\n",
    "        self.features = None\n",
    "        \n",
    "    def fit(self, X, y): \n",
    "        self.features = X.columns\n",
    "        self.model_params = self.model_params | self.gpu_params if self.device == 'GPU' else \\\n",
    "            self.model_params | self.cpu_params   \n",
    "        \n",
    "        for fold in range(self.folds):\n",
    "            print(f'\\nFold: {fold + 1}')\n",
    "            self.model_params['random_state'] += 1 \n",
    "            \n",
    "            if self.folds > 1:\n",
    "                train_idx = [x for x in range(X.shape[0]) if x%self.folds != fold]\n",
    "                val_idx = [x for x in range(X.shape[0]) if x%self.folds == fold]            \n",
    "            \n",
    "                X_train = X.iloc[train_idx]\n",
    "                y_train = y.iloc[train_idx]\n",
    "            \n",
    "                X_val = X.iloc[val_idx]\n",
    "                y_val = y.iloc[val_idx] \n",
    "            else:\n",
    "                X_train = X\n",
    "                y_train = y\n",
    "\n",
    "            train_dataset = Pool(data=X_train, label=y_train, **self.features_params)                \n",
    "           \n",
    "            model = CatBoostClassifier(**self.model_params)    \n",
    "            \n",
    "            if self.folds > 1:\n",
    "                eval_dataset = Pool(data=X_val, label=y_val, **self.features_params)  \n",
    "                model.fit(train_dataset, eval_set=eval_dataset, **self.train_params)\n",
    "            else:\n",
    "                model.fit(train_dataset,  **self.train_params)\n",
    "            \n",
    "            self.models.append(model.copy())   \n",
    "\n",
    "        self.calculate_importance()\n",
    "            \n",
    "        \n",
    "    def predict(self, X):\n",
    "        self.model_predictions = []\n",
    "        for model_number in range(self.folds):    \n",
    "            model = self.models[model_number]\n",
    "            columns = [str(x) + '__' + str(model_number) for x in model.get_all_params()['class_names']]\n",
    "            df = pd.DataFrame(data=model.predict_proba(X), columns=columns)\n",
    "            self.model_predictions.append(df)  \n",
    "    \n",
    "        self.predictions_summary = pd.concat(self.model_predictions, axis=1)\n",
    "\n",
    "        labels = model.get_all_params()['class_names']\n",
    "        for label in labels:\n",
    "            label_columns = [x for x in self.predictions_summary.columns if f'{label}__' in str(x)]\n",
    "            self.predictions_summary[label] = self.predictions_summary[label_columns].mean(axis=1)\n",
    "\n",
    "        self.predictions_summary['prediction'] = self.predictions_summary[labels].idxmax(axis=1)\n",
    "        self.predictions_summary['confidence'] = self.predictions_summary[labels].max(axis=1)\n",
    "                    \n",
    "        return self.predictions_summary  \n",
    "  \n",
    "   \n",
    "    def save_models(self, path):\n",
    "        for model_number, model in enumerate(self.models):\n",
    "            model.save_model(path + f\"model{model_number}.cbm\")\n",
    "            \n",
    "    def load_models(self, path, file_prefix=''):\n",
    "        for model_number in range(self.folds):\n",
    "            model = CatBoostClassifier()\n",
    "            model.load_model(path.joinpath(f\"{file_prefix}model{model_number}.cbm\"))\n",
    "            self.models.append(model.copy())\n",
    "            \n",
    "    def calculate_importance(self):\n",
    "        for model_number in range(self.folds):\n",
    "            fi_dict = list(zip(self.features, self.models[model_number].feature_importances_))\n",
    "            importance_df = pd.DataFrame.from_records(fi_dict).set_index(0)\n",
    "            importance_df.columns = ['importance']\n",
    "            importance_df = importance_df.sort_values('importance', ascending=False)\n",
    "            self.importance.append(importance_df) \n",
    "            \n",
    "\n",
    "def predict(data: pd.DataFrame) -> pd.DataFrame:\n",
    "    data = data.fillna('missing')\n",
    "    data = get_time_features(data)\n",
    "    \n",
    "    model = Model(params)    \n",
    "    model.load_models(path=pathlib.Path(__file__).parent, file_prefix='models/segmentation_model_')\n",
    "    predictions = model.predict(data[model.models[0].feature_names_])\n",
    "    \n",
    "    return predictions"
   ]
  },
  {
   "cell_type": "markdown",
   "id": "2b13c2d5",
   "metadata": {},
   "source": [
    "# Проверка работы модели"
   ]
  },
  {
   "cell_type": "code",
   "execution_count": 19,
   "id": "603ec2ac",
   "metadata": {},
   "outputs": [],
   "source": [
    "import pathlib\n",
    "import pickle\n",
    "import numpy as np\n",
    "import pandas as pd\n",
    "\n",
    "import predict as predict"
   ]
  },
  {
   "cell_type": "code",
   "execution_count": 20,
   "id": "68daae51",
   "metadata": {},
   "outputs": [],
   "source": [
    "with open('../data/processed/test.pcl', 'rb') as f:\n",
    "    test = pickle.load(f)\n",
    "    \n",
    "df_test = test.iloc[:1000][['Segment', 'gamecategory', 'subgamecategory', \n",
    "                            'bundle', 'created', 'shift', 'oblast', 'city', 'os', 'osv']]"
   ]
  },
  {
   "cell_type": "code",
   "execution_count": 21,
   "id": "d4daff27",
   "metadata": {},
   "outputs": [
    {
     "data": {
      "text/html": [
       "<div>\n",
       "<style scoped>\n",
       "    .dataframe tbody tr th:only-of-type {\n",
       "        vertical-align: middle;\n",
       "    }\n",
       "\n",
       "    .dataframe tbody tr th {\n",
       "        vertical-align: top;\n",
       "    }\n",
       "\n",
       "    .dataframe thead th {\n",
       "        text-align: right;\n",
       "    }\n",
       "</style>\n",
       "<table border=\"1\" class=\"dataframe\">\n",
       "  <thead>\n",
       "    <tr style=\"text-align: right;\">\n",
       "      <th></th>\n",
       "      <th>1__0</th>\n",
       "      <th>3__0</th>\n",
       "      <th>4__0</th>\n",
       "      <th>5__0</th>\n",
       "      <th>1__1</th>\n",
       "      <th>3__1</th>\n",
       "      <th>4__1</th>\n",
       "      <th>5__1</th>\n",
       "      <th>1__2</th>\n",
       "      <th>3__2</th>\n",
       "      <th>...</th>\n",
       "      <th>1__4</th>\n",
       "      <th>3__4</th>\n",
       "      <th>4__4</th>\n",
       "      <th>5__4</th>\n",
       "      <th>1</th>\n",
       "      <th>3</th>\n",
       "      <th>4</th>\n",
       "      <th>5</th>\n",
       "      <th>prediction</th>\n",
       "      <th>confidence</th>\n",
       "    </tr>\n",
       "  </thead>\n",
       "  <tbody>\n",
       "    <tr>\n",
       "      <th>0</th>\n",
       "      <td>0.036571</td>\n",
       "      <td>0.815093</td>\n",
       "      <td>0.146378</td>\n",
       "      <td>0.001958</td>\n",
       "      <td>0.038559</td>\n",
       "      <td>0.798106</td>\n",
       "      <td>0.162335</td>\n",
       "      <td>0.001000</td>\n",
       "      <td>0.041130</td>\n",
       "      <td>0.798785</td>\n",
       "      <td>...</td>\n",
       "      <td>0.035857</td>\n",
       "      <td>0.814460</td>\n",
       "      <td>0.148453</td>\n",
       "      <td>0.001230</td>\n",
       "      <td>0.037260</td>\n",
       "      <td>0.804881</td>\n",
       "      <td>0.156245</td>\n",
       "      <td>0.001615</td>\n",
       "      <td>3</td>\n",
       "      <td>0.804881</td>\n",
       "    </tr>\n",
       "    <tr>\n",
       "      <th>1</th>\n",
       "      <td>0.033902</td>\n",
       "      <td>0.855992</td>\n",
       "      <td>0.108711</td>\n",
       "      <td>0.001396</td>\n",
       "      <td>0.034551</td>\n",
       "      <td>0.853624</td>\n",
       "      <td>0.111196</td>\n",
       "      <td>0.000630</td>\n",
       "      <td>0.035214</td>\n",
       "      <td>0.863697</td>\n",
       "      <td>...</td>\n",
       "      <td>0.032227</td>\n",
       "      <td>0.854830</td>\n",
       "      <td>0.111795</td>\n",
       "      <td>0.001148</td>\n",
       "      <td>0.033639</td>\n",
       "      <td>0.854699</td>\n",
       "      <td>0.110422</td>\n",
       "      <td>0.001240</td>\n",
       "      <td>3</td>\n",
       "      <td>0.854699</td>\n",
       "    </tr>\n",
       "    <tr>\n",
       "      <th>2</th>\n",
       "      <td>0.019507</td>\n",
       "      <td>0.928697</td>\n",
       "      <td>0.051730</td>\n",
       "      <td>0.000065</td>\n",
       "      <td>0.018516</td>\n",
       "      <td>0.937473</td>\n",
       "      <td>0.043991</td>\n",
       "      <td>0.000019</td>\n",
       "      <td>0.021060</td>\n",
       "      <td>0.930941</td>\n",
       "      <td>...</td>\n",
       "      <td>0.019368</td>\n",
       "      <td>0.931247</td>\n",
       "      <td>0.049332</td>\n",
       "      <td>0.000052</td>\n",
       "      <td>0.019559</td>\n",
       "      <td>0.931052</td>\n",
       "      <td>0.049342</td>\n",
       "      <td>0.000047</td>\n",
       "      <td>3</td>\n",
       "      <td>0.931052</td>\n",
       "    </tr>\n",
       "    <tr>\n",
       "      <th>3</th>\n",
       "      <td>0.031424</td>\n",
       "      <td>0.853468</td>\n",
       "      <td>0.113826</td>\n",
       "      <td>0.001282</td>\n",
       "      <td>0.031154</td>\n",
       "      <td>0.857299</td>\n",
       "      <td>0.110888</td>\n",
       "      <td>0.000659</td>\n",
       "      <td>0.031834</td>\n",
       "      <td>0.858007</td>\n",
       "      <td>...</td>\n",
       "      <td>0.029806</td>\n",
       "      <td>0.856647</td>\n",
       "      <td>0.112620</td>\n",
       "      <td>0.000927</td>\n",
       "      <td>0.030773</td>\n",
       "      <td>0.854091</td>\n",
       "      <td>0.114052</td>\n",
       "      <td>0.001084</td>\n",
       "      <td>3</td>\n",
       "      <td>0.854091</td>\n",
       "    </tr>\n",
       "    <tr>\n",
       "      <th>4</th>\n",
       "      <td>0.033389</td>\n",
       "      <td>0.854706</td>\n",
       "      <td>0.110488</td>\n",
       "      <td>0.001416</td>\n",
       "      <td>0.033964</td>\n",
       "      <td>0.852665</td>\n",
       "      <td>0.112641</td>\n",
       "      <td>0.000730</td>\n",
       "      <td>0.034153</td>\n",
       "      <td>0.865313</td>\n",
       "      <td>...</td>\n",
       "      <td>0.030934</td>\n",
       "      <td>0.852642</td>\n",
       "      <td>0.115322</td>\n",
       "      <td>0.001102</td>\n",
       "      <td>0.032782</td>\n",
       "      <td>0.853504</td>\n",
       "      <td>0.112453</td>\n",
       "      <td>0.001261</td>\n",
       "      <td>3</td>\n",
       "      <td>0.853504</td>\n",
       "    </tr>\n",
       "    <tr>\n",
       "      <th>...</th>\n",
       "      <td>...</td>\n",
       "      <td>...</td>\n",
       "      <td>...</td>\n",
       "      <td>...</td>\n",
       "      <td>...</td>\n",
       "      <td>...</td>\n",
       "      <td>...</td>\n",
       "      <td>...</td>\n",
       "      <td>...</td>\n",
       "      <td>...</td>\n",
       "      <td>...</td>\n",
       "      <td>...</td>\n",
       "      <td>...</td>\n",
       "      <td>...</td>\n",
       "      <td>...</td>\n",
       "      <td>...</td>\n",
       "      <td>...</td>\n",
       "      <td>...</td>\n",
       "      <td>...</td>\n",
       "      <td>...</td>\n",
       "      <td>...</td>\n",
       "    </tr>\n",
       "    <tr>\n",
       "      <th>995</th>\n",
       "      <td>0.121880</td>\n",
       "      <td>0.835836</td>\n",
       "      <td>0.042279</td>\n",
       "      <td>0.000006</td>\n",
       "      <td>0.095849</td>\n",
       "      <td>0.846359</td>\n",
       "      <td>0.057781</td>\n",
       "      <td>0.000011</td>\n",
       "      <td>0.099842</td>\n",
       "      <td>0.846329</td>\n",
       "      <td>...</td>\n",
       "      <td>0.100550</td>\n",
       "      <td>0.846919</td>\n",
       "      <td>0.052525</td>\n",
       "      <td>0.000006</td>\n",
       "      <td>0.107673</td>\n",
       "      <td>0.834012</td>\n",
       "      <td>0.058302</td>\n",
       "      <td>0.000013</td>\n",
       "      <td>3</td>\n",
       "      <td>0.834012</td>\n",
       "    </tr>\n",
       "    <tr>\n",
       "      <th>996</th>\n",
       "      <td>0.030480</td>\n",
       "      <td>0.854790</td>\n",
       "      <td>0.113213</td>\n",
       "      <td>0.001517</td>\n",
       "      <td>0.029487</td>\n",
       "      <td>0.859316</td>\n",
       "      <td>0.110381</td>\n",
       "      <td>0.000816</td>\n",
       "      <td>0.031414</td>\n",
       "      <td>0.864150</td>\n",
       "      <td>...</td>\n",
       "      <td>0.029506</td>\n",
       "      <td>0.859457</td>\n",
       "      <td>0.109974</td>\n",
       "      <td>0.001063</td>\n",
       "      <td>0.030030</td>\n",
       "      <td>0.856671</td>\n",
       "      <td>0.111958</td>\n",
       "      <td>0.001340</td>\n",
       "      <td>3</td>\n",
       "      <td>0.856671</td>\n",
       "    </tr>\n",
       "    <tr>\n",
       "      <th>997</th>\n",
       "      <td>0.060138</td>\n",
       "      <td>0.513431</td>\n",
       "      <td>0.426315</td>\n",
       "      <td>0.000116</td>\n",
       "      <td>0.044534</td>\n",
       "      <td>0.584589</td>\n",
       "      <td>0.370794</td>\n",
       "      <td>0.000082</td>\n",
       "      <td>0.054654</td>\n",
       "      <td>0.587771</td>\n",
       "      <td>...</td>\n",
       "      <td>0.061677</td>\n",
       "      <td>0.447231</td>\n",
       "      <td>0.491044</td>\n",
       "      <td>0.000049</td>\n",
       "      <td>0.053131</td>\n",
       "      <td>0.541443</td>\n",
       "      <td>0.405298</td>\n",
       "      <td>0.000128</td>\n",
       "      <td>3</td>\n",
       "      <td>0.541443</td>\n",
       "    </tr>\n",
       "    <tr>\n",
       "      <th>998</th>\n",
       "      <td>0.061943</td>\n",
       "      <td>0.889933</td>\n",
       "      <td>0.048100</td>\n",
       "      <td>0.000024</td>\n",
       "      <td>0.037877</td>\n",
       "      <td>0.886641</td>\n",
       "      <td>0.075459</td>\n",
       "      <td>0.000023</td>\n",
       "      <td>0.040647</td>\n",
       "      <td>0.895102</td>\n",
       "      <td>...</td>\n",
       "      <td>0.035613</td>\n",
       "      <td>0.921202</td>\n",
       "      <td>0.043170</td>\n",
       "      <td>0.000016</td>\n",
       "      <td>0.044304</td>\n",
       "      <td>0.888320</td>\n",
       "      <td>0.067340</td>\n",
       "      <td>0.000037</td>\n",
       "      <td>3</td>\n",
       "      <td>0.888320</td>\n",
       "    </tr>\n",
       "    <tr>\n",
       "      <th>999</th>\n",
       "      <td>0.042372</td>\n",
       "      <td>0.723432</td>\n",
       "      <td>0.232465</td>\n",
       "      <td>0.001731</td>\n",
       "      <td>0.046632</td>\n",
       "      <td>0.704607</td>\n",
       "      <td>0.247837</td>\n",
       "      <td>0.000925</td>\n",
       "      <td>0.051354</td>\n",
       "      <td>0.693259</td>\n",
       "      <td>...</td>\n",
       "      <td>0.044476</td>\n",
       "      <td>0.702539</td>\n",
       "      <td>0.251827</td>\n",
       "      <td>0.001158</td>\n",
       "      <td>0.045939</td>\n",
       "      <td>0.706220</td>\n",
       "      <td>0.246463</td>\n",
       "      <td>0.001379</td>\n",
       "      <td>3</td>\n",
       "      <td>0.706220</td>\n",
       "    </tr>\n",
       "  </tbody>\n",
       "</table>\n",
       "<p>1000 rows × 26 columns</p>\n",
       "</div>"
      ],
      "text/plain": [
       "         1__0      3__0      4__0      5__0      1__1      3__1      4__1  \\\n",
       "0    0.036571  0.815093  0.146378  0.001958  0.038559  0.798106  0.162335   \n",
       "1    0.033902  0.855992  0.108711  0.001396  0.034551  0.853624  0.111196   \n",
       "2    0.019507  0.928697  0.051730  0.000065  0.018516  0.937473  0.043991   \n",
       "3    0.031424  0.853468  0.113826  0.001282  0.031154  0.857299  0.110888   \n",
       "4    0.033389  0.854706  0.110488  0.001416  0.033964  0.852665  0.112641   \n",
       "..        ...       ...       ...       ...       ...       ...       ...   \n",
       "995  0.121880  0.835836  0.042279  0.000006  0.095849  0.846359  0.057781   \n",
       "996  0.030480  0.854790  0.113213  0.001517  0.029487  0.859316  0.110381   \n",
       "997  0.060138  0.513431  0.426315  0.000116  0.044534  0.584589  0.370794   \n",
       "998  0.061943  0.889933  0.048100  0.000024  0.037877  0.886641  0.075459   \n",
       "999  0.042372  0.723432  0.232465  0.001731  0.046632  0.704607  0.247837   \n",
       "\n",
       "         5__1      1__2      3__2  ...      1__4      3__4      4__4  \\\n",
       "0    0.001000  0.041130  0.798785  ...  0.035857  0.814460  0.148453   \n",
       "1    0.000630  0.035214  0.863697  ...  0.032227  0.854830  0.111795   \n",
       "2    0.000019  0.021060  0.930941  ...  0.019368  0.931247  0.049332   \n",
       "3    0.000659  0.031834  0.858007  ...  0.029806  0.856647  0.112620   \n",
       "4    0.000730  0.034153  0.865313  ...  0.030934  0.852642  0.115322   \n",
       "..        ...       ...       ...  ...       ...       ...       ...   \n",
       "995  0.000011  0.099842  0.846329  ...  0.100550  0.846919  0.052525   \n",
       "996  0.000816  0.031414  0.864150  ...  0.029506  0.859457  0.109974   \n",
       "997  0.000082  0.054654  0.587771  ...  0.061677  0.447231  0.491044   \n",
       "998  0.000023  0.040647  0.895102  ...  0.035613  0.921202  0.043170   \n",
       "999  0.000925  0.051354  0.693259  ...  0.044476  0.702539  0.251827   \n",
       "\n",
       "         5__4         1         3         4         5  prediction  confidence  \n",
       "0    0.001230  0.037260  0.804881  0.156245  0.001615           3    0.804881  \n",
       "1    0.001148  0.033639  0.854699  0.110422  0.001240           3    0.854699  \n",
       "2    0.000052  0.019559  0.931052  0.049342  0.000047           3    0.931052  \n",
       "3    0.000927  0.030773  0.854091  0.114052  0.001084           3    0.854091  \n",
       "4    0.001102  0.032782  0.853504  0.112453  0.001261           3    0.853504  \n",
       "..        ...       ...       ...       ...       ...         ...         ...  \n",
       "995  0.000006  0.107673  0.834012  0.058302  0.000013           3    0.834012  \n",
       "996  0.001063  0.030030  0.856671  0.111958  0.001340           3    0.856671  \n",
       "997  0.000049  0.053131  0.541443  0.405298  0.000128           3    0.541443  \n",
       "998  0.000016  0.044304  0.888320  0.067340  0.000037           3    0.888320  \n",
       "999  0.001158  0.045939  0.706220  0.246463  0.001379           3    0.706220  \n",
       "\n",
       "[1000 rows x 26 columns]"
      ]
     },
     "execution_count": 21,
     "metadata": {},
     "output_type": "execute_result"
    }
   ],
   "source": [
    "predict.predict(df_test)"
   ]
  },
  {
   "cell_type": "code",
   "execution_count": null,
   "id": "02b30b99",
   "metadata": {},
   "outputs": [],
   "source": []
  }
 ],
 "metadata": {
  "kernelspec": {
   "display_name": "Shifts",
   "language": "python",
   "name": "shifts"
  },
  "language_info": {
   "codemirror_mode": {
    "name": "ipython",
    "version": 3
   },
   "file_extension": ".py",
   "mimetype": "text/x-python",
   "name": "python",
   "nbconvert_exporter": "python",
   "pygments_lexer": "ipython3",
   "version": "3.9.5"
  },
  "toc": {
   "base_numbering": 1,
   "nav_menu": {},
   "number_sections": false,
   "sideBar": true,
   "skip_h1_title": false,
   "title_cell": "Содержание",
   "title_sidebar": "Contents",
   "toc_cell": false,
   "toc_position": {
    "height": "calc(100% - 180px)",
    "left": "10px",
    "top": "150px",
    "width": "355.516px"
   },
   "toc_section_display": true,
   "toc_window_display": true
  }
 },
 "nbformat": 4,
 "nbformat_minor": 5
}
