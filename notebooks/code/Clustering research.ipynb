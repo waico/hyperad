{
 "cells": [
  {
   "cell_type": "code",
   "execution_count": 115,
   "metadata": {},
   "outputs": [],
   "source": [
    "import pandas as pd\n",
    "import numpy as np\n",
    "import pickle\n",
    "from sklearn import preprocessing\n",
    "from sklearn.cluster import AgglomerativeClustering, KMeans, DBSCAN\n",
    "import matplotlib.pyplot as plt"
   ]
  },
  {
   "cell_type": "markdown",
   "metadata": {},
   "source": [
    "# Загрузка данных"
   ]
  },
  {
   "cell_type": "code",
   "execution_count": 253,
   "metadata": {},
   "outputs": [],
   "source": [
    "with open('train.pcl', 'rb') as f:\n",
    "    # The protocol version used is detected automatically, so we do not\n",
    "    # have to specify it.\n",
    "    X = pickle.load(f).drop('Segment', axis=1)"
   ]
  },
  {
   "cell_type": "code",
   "execution_count": 254,
   "metadata": {},
   "outputs": [],
   "source": [
    "# with open('test.pcl', 'rb') as f:\n",
    "#     # The protocol version used is detected automatically, so we do not\n",
    "#     # have to specify it.\n",
    "#     X_ = pickle.load(f)"
   ]
  },
  {
   "cell_type": "code",
   "execution_count": 255,
   "metadata": {},
   "outputs": [],
   "source": [
    "with open('train.pcl', 'rb') as f:\n",
    "    # The protocol version used is detected automatically, so we do not\n",
    "    # have to specify it.\n",
    "    y = pickle.load(f)['Segment']"
   ]
  },
  {
   "cell_type": "code",
   "execution_count": 229,
   "metadata": {},
   "outputs": [
    {
     "data": {
      "text/plain": [
       "(29998184, 17)"
      ]
     },
     "execution_count": 229,
     "metadata": {},
     "output_type": "execute_result"
    }
   ],
   "source": [
    "X.shape"
   ]
  },
  {
   "cell_type": "code",
   "execution_count": 230,
   "metadata": {},
   "outputs": [
    {
     "data": {
      "text/html": [
       "<div>\n",
       "<style scoped>\n",
       "    .dataframe tbody tr th:only-of-type {\n",
       "        vertical-align: middle;\n",
       "    }\n",
       "\n",
       "    .dataframe tbody tr th {\n",
       "        vertical-align: top;\n",
       "    }\n",
       "\n",
       "    .dataframe thead th {\n",
       "        text-align: right;\n",
       "    }\n",
       "</style>\n",
       "<table border=\"1\" class=\"dataframe\">\n",
       "  <thead>\n",
       "    <tr style=\"text-align: right;\">\n",
       "      <th></th>\n",
       "      <th>gamecategory</th>\n",
       "      <th>subgamecategory</th>\n",
       "      <th>bundle</th>\n",
       "      <th>created</th>\n",
       "      <th>shift</th>\n",
       "      <th>oblast</th>\n",
       "      <th>city</th>\n",
       "      <th>os</th>\n",
       "      <th>osv</th>\n",
       "      <th>hour_shift</th>\n",
       "      <th>local_time</th>\n",
       "      <th>month</th>\n",
       "      <th>date</th>\n",
       "      <th>day</th>\n",
       "      <th>wd</th>\n",
       "      <th>hour</th>\n",
       "      <th>minutes</th>\n",
       "    </tr>\n",
       "  </thead>\n",
       "  <tbody>\n",
       "    <tr>\n",
       "      <th>0</th>\n",
       "      <td>Games</td>\n",
       "      <td>Racing</td>\n",
       "      <td>com.MadOut.BIG</td>\n",
       "      <td>2021-07-05 18:07:40</td>\n",
       "      <td>MSK+6</td>\n",
       "      <td>Забайкальский Край</td>\n",
       "      <td>Чита</td>\n",
       "      <td>android</td>\n",
       "      <td>10.0</td>\n",
       "      <td>6</td>\n",
       "      <td>2021-07-06 00:07:40</td>\n",
       "      <td>7</td>\n",
       "      <td>2021-07-06</td>\n",
       "      <td>6</td>\n",
       "      <td>1</td>\n",
       "      <td>0</td>\n",
       "      <td>7</td>\n",
       "    </tr>\n",
       "    <tr>\n",
       "      <th>1</th>\n",
       "      <td>missing</td>\n",
       "      <td>missing</td>\n",
       "      <td>com.easybrain.solitaire.klondike.free</td>\n",
       "      <td>2021-07-10 10:38:42</td>\n",
       "      <td>MSK+2</td>\n",
       "      <td>Оренбургская область</td>\n",
       "      <td>Оренбург</td>\n",
       "      <td>Android</td>\n",
       "      <td>10.0.0</td>\n",
       "      <td>2</td>\n",
       "      <td>2021-07-10 12:38:42</td>\n",
       "      <td>7</td>\n",
       "      <td>2021-07-10</td>\n",
       "      <td>10</td>\n",
       "      <td>5</td>\n",
       "      <td>12</td>\n",
       "      <td>38</td>\n",
       "    </tr>\n",
       "    <tr>\n",
       "      <th>2</th>\n",
       "      <td>Games</td>\n",
       "      <td>Arcade</td>\n",
       "      <td>com.orbitalknight.ridiculousfreekick</td>\n",
       "      <td>2021-08-04 13:34:29</td>\n",
       "      <td>MSK</td>\n",
       "      <td>Санкт-Петербург</td>\n",
       "      <td>Санкт-Петербург</td>\n",
       "      <td>android</td>\n",
       "      <td>9.0</td>\n",
       "      <td>0</td>\n",
       "      <td>2021-08-04 13:34:29</td>\n",
       "      <td>8</td>\n",
       "      <td>2021-08-04</td>\n",
       "      <td>4</td>\n",
       "      <td>2</td>\n",
       "      <td>13</td>\n",
       "      <td>34</td>\n",
       "    </tr>\n",
       "    <tr>\n",
       "      <th>3</th>\n",
       "      <td>missing</td>\n",
       "      <td>missing</td>\n",
       "      <td>tcouchgind.scooterextreme.scooter</td>\n",
       "      <td>2021-08-06 07:35:27</td>\n",
       "      <td>MSK+2</td>\n",
       "      <td>Свердловская область</td>\n",
       "      <td>Екатеринбург</td>\n",
       "      <td>android</td>\n",
       "      <td>9</td>\n",
       "      <td>2</td>\n",
       "      <td>2021-08-06 09:35:27</td>\n",
       "      <td>8</td>\n",
       "      <td>2021-08-06</td>\n",
       "      <td>6</td>\n",
       "      <td>4</td>\n",
       "      <td>9</td>\n",
       "      <td>35</td>\n",
       "    </tr>\n",
       "    <tr>\n",
       "      <th>4</th>\n",
       "      <td>missing</td>\n",
       "      <td>missing</td>\n",
       "      <td>com.FidgetTrading3D.game</td>\n",
       "      <td>2021-08-02 20:43:59</td>\n",
       "      <td>MSK</td>\n",
       "      <td>Московская область</td>\n",
       "      <td>Звенигород</td>\n",
       "      <td>android</td>\n",
       "      <td>6.0.1</td>\n",
       "      <td>0</td>\n",
       "      <td>2021-08-02 20:43:59</td>\n",
       "      <td>8</td>\n",
       "      <td>2021-08-02</td>\n",
       "      <td>2</td>\n",
       "      <td>0</td>\n",
       "      <td>20</td>\n",
       "      <td>43</td>\n",
       "    </tr>\n",
       "  </tbody>\n",
       "</table>\n",
       "</div>"
      ],
      "text/plain": [
       "  gamecategory subgamecategory                                 bundle  \\\n",
       "0        Games          Racing                         com.MadOut.BIG   \n",
       "1      missing         missing  com.easybrain.solitaire.klondike.free   \n",
       "2        Games          Arcade   com.orbitalknight.ridiculousfreekick   \n",
       "3      missing         missing      tcouchgind.scooterextreme.scooter   \n",
       "4      missing         missing               com.FidgetTrading3D.game   \n",
       "\n",
       "              created  shift                oblast             city       os  \\\n",
       "0 2021-07-05 18:07:40  MSK+6    Забайкальский Край             Чита  android   \n",
       "1 2021-07-10 10:38:42  MSK+2  Оренбургская область         Оренбург  Android   \n",
       "2 2021-08-04 13:34:29    MSK       Санкт-Петербург  Санкт-Петербург  android   \n",
       "3 2021-08-06 07:35:27  MSK+2  Свердловская область     Екатеринбург  android   \n",
       "4 2021-08-02 20:43:59    MSK    Московская область       Звенигород  android   \n",
       "\n",
       "      osv  hour_shift          local_time  month        date  day  wd  hour  \\\n",
       "0    10.0           6 2021-07-06 00:07:40      7  2021-07-06    6   1     0   \n",
       "1  10.0.0           2 2021-07-10 12:38:42      7  2021-07-10   10   5    12   \n",
       "2     9.0           0 2021-08-04 13:34:29      8  2021-08-04    4   2    13   \n",
       "3       9           2 2021-08-06 09:35:27      8  2021-08-06    6   4     9   \n",
       "4   6.0.1           0 2021-08-02 20:43:59      8  2021-08-02    2   0    20   \n",
       "\n",
       "   minutes  \n",
       "0        7  \n",
       "1       38  \n",
       "2       34  \n",
       "3       35  \n",
       "4       43  "
      ]
     },
     "execution_count": 230,
     "metadata": {},
     "output_type": "execute_result"
    }
   ],
   "source": [
    "X.head()"
   ]
  },
  {
   "cell_type": "markdown",
   "metadata": {},
   "source": [
    "# Preprocessing"
   ]
  },
  {
   "cell_type": "code",
   "execution_count": 231,
   "metadata": {},
   "outputs": [],
   "source": [
    "def preprocessing(X):\n",
    "    '''\n",
    "    Features as input:\n",
    "    - gamecategory\n",
    "    - subgamecategory\n",
    "    - bundle\n",
    "    - created\n",
    "    - shift\n",
    "    - oblast\n",
    "    - city\n",
    "    - os\n",
    "    - osv\n",
    "    - hour_shift\n",
    "    - local_time\n",
    "    - month\n",
    "    - date\n",
    "    - day\n",
    "    - wd\n",
    "    - hour\n",
    "    - minutes\n",
    "    - Segment - output of classification model (1-5 segment numbers)\n",
    "    '''\n",
    "    X = X.copy()\n",
    "    # Уменьшение кол-ва категорий\n",
    "    night = (X.hour >= 22) | (X.hour < 9)\n",
    "    work = (X.hour >= 9) & (X.hour < 18)\n",
    "    evening = (X.hour >= 18) & (X.hour < 22)\n",
    "    X.hour[night] = 'night'\n",
    "    X.hour[work] = 'work'\n",
    "    X.hour[evening] = 'evening'\n",
    "    \n",
    "    # Приведение к нижнему регистру\n",
    "    X.os = X.os.str.lower()\n",
    "    \n",
    "    # Выбор версии ОС\n",
    "    X.osv = X.osv.str.split('.').str[0]\n",
    "    X['osv'] = X['os'] + '_' + X['osv']\n",
    "    \n",
    "    X['subgamecategory'] = X['gamecategory'] + '_' + X['subgamecategory']\n",
    "    \n",
    "    X.drop(['created', \n",
    "        'shift', \n",
    "        'bundle', \n",
    "        'local_time', \n",
    "        'city', \n",
    "        'hour_shift', \n",
    "#         'month', \n",
    "        'minutes', \n",
    "        'day', \n",
    "        'subgamecategory', \n",
    "        'date'\n",
    "       ], axis=1, inplace=True)\n",
    "    \n",
    "    # X.bundle = X.bundle.str.split('.').str[0]\n",
    "    \n",
    "    return X"
   ]
  },
  {
   "cell_type": "code",
   "execution_count": 232,
   "metadata": {},
   "outputs": [
    {
     "name": "stderr",
     "output_type": "stream",
     "text": [
      "/var/folders/m2/zw_q8jrs4s90wpm6fc798c9w0000gn/T/ipykernel_13951/1890388640.py:7: SettingWithCopyWarning: \n",
      "A value is trying to be set on a copy of a slice from a DataFrame\n",
      "\n",
      "See the caveats in the documentation: https://pandas.pydata.org/pandas-docs/stable/user_guide/indexing.html#returning-a-view-versus-a-copy\n",
      "  X.hour[night] = 'night'\n",
      "/var/folders/m2/zw_q8jrs4s90wpm6fc798c9w0000gn/T/ipykernel_13951/1890388640.py:8: SettingWithCopyWarning: \n",
      "A value is trying to be set on a copy of a slice from a DataFrame\n",
      "\n",
      "See the caveats in the documentation: https://pandas.pydata.org/pandas-docs/stable/user_guide/indexing.html#returning-a-view-versus-a-copy\n",
      "  X.hour[work] = 'work'\n",
      "/var/folders/m2/zw_q8jrs4s90wpm6fc798c9w0000gn/T/ipykernel_13951/1890388640.py:9: SettingWithCopyWarning: \n",
      "A value is trying to be set on a copy of a slice from a DataFrame\n",
      "\n",
      "See the caveats in the documentation: https://pandas.pydata.org/pandas-docs/stable/user_guide/indexing.html#returning-a-view-versus-a-copy\n",
      "  X.hour[evening] = 'evening'\n"
     ]
    }
   ],
   "source": [
    "X = preprocessing(X)"
   ]
  },
  {
   "cell_type": "code",
   "execution_count": 233,
   "metadata": {},
   "outputs": [
    {
     "data": {
      "text/html": [
       "<div>\n",
       "<style scoped>\n",
       "    .dataframe tbody tr th:only-of-type {\n",
       "        vertical-align: middle;\n",
       "    }\n",
       "\n",
       "    .dataframe tbody tr th {\n",
       "        vertical-align: top;\n",
       "    }\n",
       "\n",
       "    .dataframe thead th {\n",
       "        text-align: right;\n",
       "    }\n",
       "</style>\n",
       "<table border=\"1\" class=\"dataframe\">\n",
       "  <thead>\n",
       "    <tr style=\"text-align: right;\">\n",
       "      <th></th>\n",
       "      <th>gamecategory</th>\n",
       "      <th>oblast</th>\n",
       "      <th>os</th>\n",
       "      <th>osv</th>\n",
       "      <th>month</th>\n",
       "      <th>wd</th>\n",
       "      <th>hour</th>\n",
       "    </tr>\n",
       "  </thead>\n",
       "  <tbody>\n",
       "    <tr>\n",
       "      <th>0</th>\n",
       "      <td>Games</td>\n",
       "      <td>Забайкальский Край</td>\n",
       "      <td>android</td>\n",
       "      <td>android10</td>\n",
       "      <td>7</td>\n",
       "      <td>1</td>\n",
       "      <td>night</td>\n",
       "    </tr>\n",
       "    <tr>\n",
       "      <th>1</th>\n",
       "      <td>missing</td>\n",
       "      <td>Оренбургская область</td>\n",
       "      <td>android</td>\n",
       "      <td>android10</td>\n",
       "      <td>7</td>\n",
       "      <td>5</td>\n",
       "      <td>work</td>\n",
       "    </tr>\n",
       "    <tr>\n",
       "      <th>2</th>\n",
       "      <td>Games</td>\n",
       "      <td>Санкт-Петербург</td>\n",
       "      <td>android</td>\n",
       "      <td>android9</td>\n",
       "      <td>8</td>\n",
       "      <td>2</td>\n",
       "      <td>work</td>\n",
       "    </tr>\n",
       "    <tr>\n",
       "      <th>3</th>\n",
       "      <td>missing</td>\n",
       "      <td>Свердловская область</td>\n",
       "      <td>android</td>\n",
       "      <td>android9</td>\n",
       "      <td>8</td>\n",
       "      <td>4</td>\n",
       "      <td>work</td>\n",
       "    </tr>\n",
       "    <tr>\n",
       "      <th>4</th>\n",
       "      <td>missing</td>\n",
       "      <td>Московская область</td>\n",
       "      <td>android</td>\n",
       "      <td>android6</td>\n",
       "      <td>8</td>\n",
       "      <td>0</td>\n",
       "      <td>evening</td>\n",
       "    </tr>\n",
       "  </tbody>\n",
       "</table>\n",
       "</div>"
      ],
      "text/plain": [
       "  gamecategory                oblast       os        osv  month  wd     hour\n",
       "0        Games    Забайкальский Край  android  android10      7   1    night\n",
       "1      missing  Оренбургская область  android  android10      7   5     work\n",
       "2        Games       Санкт-Петербург  android   android9      8   2     work\n",
       "3      missing  Свердловская область  android   android9      8   4     work\n",
       "4      missing    Московская область  android   android6      8   0  evening"
      ]
     },
     "execution_count": 233,
     "metadata": {},
     "output_type": "execute_result"
    }
   ],
   "source": [
    "X.head()"
   ]
  },
  {
   "cell_type": "code",
   "execution_count": 21,
   "metadata": {},
   "outputs": [
    {
     "data": {
      "text/plain": [
       "gamecategory    26\n",
       "oblast          91\n",
       "os               2\n",
       "osv             41\n",
       "month            2\n",
       "wd               7\n",
       "hour             3\n",
       "dtype: int64"
      ]
     },
     "execution_count": 21,
     "metadata": {},
     "output_type": "execute_result"
    }
   ],
   "source": [
    "X.nunique()"
   ]
  },
  {
   "cell_type": "markdown",
   "metadata": {},
   "source": [
    "# Subset selection"
   ]
  },
  {
   "cell_type": "code",
   "execution_count": 22,
   "metadata": {},
   "outputs": [],
   "source": [
    "from sklearn.model_selection import train_test_split"
   ]
  },
  {
   "cell_type": "code",
   "execution_count": 256,
   "metadata": {},
   "outputs": [],
   "source": [
    "X_small, _, y_small, _ = train_test_split(X, y, train_size=0.001, random_state=1, stratify=y, shuffle=True)"
   ]
  },
  {
   "cell_type": "code",
   "execution_count": 257,
   "metadata": {},
   "outputs": [],
   "source": [
    "del _"
   ]
  },
  {
   "cell_type": "code",
   "execution_count": 258,
   "metadata": {},
   "outputs": [],
   "source": [
    "X_small = X_small.join(y_small)"
   ]
  },
  {
   "cell_type": "code",
   "execution_count": 259,
   "metadata": {},
   "outputs": [],
   "source": [
    "X_small.to_csv('part_of_train_data.csv')"
   ]
  },
  {
   "cell_type": "code",
   "execution_count": 28,
   "metadata": {},
   "outputs": [],
   "source": [
    "le = {}\n",
    "for col in X.columns:\n",
    "    le[col] = preprocessing.LabelEncoder()\n",
    "    le[col].fit(X[col])\n",
    "\n",
    "    X_small[col] = le[col].transform(X_small[col])"
   ]
  },
  {
   "cell_type": "markdown",
   "metadata": {},
   "source": [
    "# Strategies and Algorithms for Clustering Large Datasets: A Review\n",
    "\n",
    "https://upcommons.upc.edu/bitstream/handle/2117/23415/R13-11.pdf"
   ]
  },
  {
   "cell_type": "code",
   "execution_count": 234,
   "metadata": {},
   "outputs": [],
   "source": [
    "def table_generation(X):\n",
    "    NUMBER_OF_PLACES = 2\n",
    "\n",
    "    dict_info = {}\n",
    "    for cluster in range(X.cluster.nunique()):\n",
    "        dict_ = {}\n",
    "        for col in X.columns[:-1]:\n",
    "            X_clustered = X[X.cluster == cluster]\n",
    "            a = (X_clustered[col].value_counts() / len(X_clustered) * 100)[:NUMBER_OF_PLACES].to_dict()\n",
    "            temp = [str(i)+f' ({str(round(j,1))}%)' for i,j in zip(a.keys(), a.values())]\n",
    "            while len(temp) < NUMBER_OF_PLACES:\n",
    "                temp += ['- (0%)']\n",
    "            dict_[col] = temp\n",
    "        dict_info[f'Кластер № {cluster}'] = pd.DataFrame(dict_, index=['Самый частый', 'Второе место'])\n",
    "\n",
    "    return pd.concat(dict_info)"
   ]
  },
  {
   "cell_type": "markdown",
   "metadata": {},
   "source": [
    "# MCA + KMeans"
   ]
  },
  {
   "cell_type": "markdown",
   "metadata": {},
   "source": [
    "Remember that u can always get principal components for categorical variables using a multiple correspondence analysis (MCA), which will give principal components, and you can get then do a separate PCA for the numerical variables, and use the combined as input into your clustering.\n",
    "\n",
    "https://github.com/esafak/mca/blob/master/docs/usage.rst"
   ]
  },
  {
   "cell_type": "code",
   "execution_count": 56,
   "metadata": {},
   "outputs": [],
   "source": [
    "# !pip install mca"
   ]
  },
  {
   "cell_type": "code",
   "execution_count": 47,
   "metadata": {},
   "outputs": [],
   "source": [
    "import mca"
   ]
  },
  {
   "cell_type": "code",
   "execution_count": 48,
   "metadata": {},
   "outputs": [],
   "source": [
    "mca_ = mca.MCA(X_small)"
   ]
  },
  {
   "cell_type": "code",
   "execution_count": 53,
   "metadata": {},
   "outputs": [
    {
     "name": "stdout",
     "output_type": "stream",
     "text": [
      "[0.00121631]\n"
     ]
    }
   ],
   "source": [
    "print(mca_.L)"
   ]
  },
  {
   "cell_type": "code",
   "execution_count": 57,
   "metadata": {},
   "outputs": [],
   "source": [
    "mca_results = mca_.fs_r(0.99)"
   ]
  },
  {
   "cell_type": "code",
   "execution_count": 59,
   "metadata": {},
   "outputs": [
    {
     "data": {
      "text/plain": [
       "(29998, 1)"
      ]
     },
     "execution_count": 59,
     "metadata": {},
     "output_type": "execute_result"
    }
   ],
   "source": [
    "mca_results"
   ]
  },
  {
   "cell_type": "code",
   "execution_count": 70,
   "metadata": {},
   "outputs": [
    {
     "data": {
      "text/plain": [
       "array([1, 2, 3, ..., 2, 0, 3], dtype=int32)"
      ]
     },
     "execution_count": 70,
     "metadata": {},
     "output_type": "execute_result"
    }
   ],
   "source": [
    "clustering = KMeans(5).fit(mca_results)\n",
    "clustering\n",
    "\n",
    "clustering.labels_"
   ]
  },
  {
   "cell_type": "code",
   "execution_count": 87,
   "metadata": {},
   "outputs": [],
   "source": [
    "for col in X.columns:\n",
    "    X_small[col] = le[col].inverse_transform(X_small[col])"
   ]
  },
  {
   "cell_type": "code",
   "execution_count": 89,
   "metadata": {},
   "outputs": [
    {
     "data": {
      "text/plain": [
       "<AxesSubplot:xlabel='osv', ylabel='Count'>"
      ]
     },
     "execution_count": 89,
     "metadata": {},
     "output_type": "execute_result"
    },
    {
     "data": {
      "image/png": "[encoded data removed]",
      "text/plain": [
       "<Figure size 432x288 with 1 Axes>"
      ]
     },
     "metadata": {
      "needs_background": "light"
     },
     "output_type": "display_data"
    }
   ],
   "source": [
    "sns.histplot(data=X_small, x=\"osv\", hue=clustering.labels_, multiple=\"stack\")"
   ]
  },
  {
   "cell_type": "code",
   "execution_count": 74,
   "metadata": {},
   "outputs": [],
   "source": [
    "X_small['cluster'] = clustering.labels_"
   ]
  },
  {
   "cell_type": "code",
   "execution_count": 172,
   "metadata": {},
   "outputs": [
    {
     "data": {
      "text/html": [
       "<div>\n",
       "<style scoped>\n",
       "    .dataframe tbody tr th:only-of-type {\n",
       "        vertical-align: middle;\n",
       "    }\n",
       "\n",
       "    .dataframe tbody tr th {\n",
       "        vertical-align: top;\n",
       "    }\n",
       "\n",
       "    .dataframe thead th {\n",
       "        text-align: right;\n",
       "    }\n",
       "</style>\n",
       "<table border=\"1\" class=\"dataframe\">\n",
       "  <thead>\n",
       "    <tr style=\"text-align: right;\">\n",
       "      <th></th>\n",
       "      <th></th>\n",
       "      <th>gamecategory</th>\n",
       "      <th>oblast</th>\n",
       "      <th>os</th>\n",
       "      <th>osv</th>\n",
       "      <th>month</th>\n",
       "      <th>wd</th>\n",
       "      <th>hour</th>\n",
       "      <th>Segment</th>\n",
       "    </tr>\n",
       "  </thead>\n",
       "  <tbody>\n",
       "    <tr>\n",
       "      <th rowspan=\"2\" valign=\"top\">Кластер № 0</th>\n",
       "      <th>Самый частый</th>\n",
       "      <td>Games (51.8%)</td>\n",
       "      <td>Москва (33.0%)</td>\n",
       "      <td>android (73.0%)</td>\n",
       "      <td>android9 (26.9%)</td>\n",
       "      <td>8 (61.9%)</td>\n",
       "      <td>0 (20.6%)</td>\n",
       "      <td>work (56.4%)</td>\n",
       "      <td>3 (38.7%)</td>\n",
       "    </tr>\n",
       "    <tr>\n",
       "      <th>Второе место</th>\n",
       "      <td>missing (41.5%)</td>\n",
       "      <td>missing (14.8%)</td>\n",
       "      <td>ios (27.0%)</td>\n",
       "      <td>ios14 (20.1%)</td>\n",
       "      <td>7 (38.1%)</td>\n",
       "      <td>1 (18.9%)</td>\n",
       "      <td>night (26.9%)</td>\n",
       "      <td>5 (30.6%)</td>\n",
       "    </tr>\n",
       "    <tr>\n",
       "      <th rowspan=\"2\" valign=\"top\">Кластер № 1</th>\n",
       "      <th>Самый частый</th>\n",
       "      <td>Games (50.4%)</td>\n",
       "      <td>Москва (21.1%)</td>\n",
       "      <td>android (100.0%)</td>\n",
       "      <td>android10 (72.9%)</td>\n",
       "      <td>8 (68.1%)</td>\n",
       "      <td>0 (21.6%)</td>\n",
       "      <td>work (57.5%)</td>\n",
       "      <td>5 (34.5%)</td>\n",
       "    </tr>\n",
       "    <tr>\n",
       "      <th>Второе место</th>\n",
       "      <td>missing (43.6%)</td>\n",
       "      <td>Свердловская область (9.3%)</td>\n",
       "      <td>- (0%)</td>\n",
       "      <td>android11 (27.1%)</td>\n",
       "      <td>7 (31.9%)</td>\n",
       "      <td>1 (20.2%)</td>\n",
       "      <td>night (24.5%)</td>\n",
       "      <td>4 (33.4%)</td>\n",
       "    </tr>\n",
       "    <tr>\n",
       "      <th rowspan=\"2\" valign=\"top\">Кластер № 2</th>\n",
       "      <th>Самый частый</th>\n",
       "      <td>missing (49.4%)</td>\n",
       "      <td>missing (21.6%)</td>\n",
       "      <td>android (77.1%)</td>\n",
       "      <td>android9 (34.2%)</td>\n",
       "      <td>8 (61.5%)</td>\n",
       "      <td>0 (21.4%)</td>\n",
       "      <td>work (55.7%)</td>\n",
       "      <td>3 (37.7%)</td>\n",
       "    </tr>\n",
       "    <tr>\n",
       "      <th>Второе место</th>\n",
       "      <td>Games (45.2%)</td>\n",
       "      <td>Башкортостан (9.0%)</td>\n",
       "      <td>ios (22.9%)</td>\n",
       "      <td>android8 (20.3%)</td>\n",
       "      <td>7 (38.5%)</td>\n",
       "      <td>1 (19.5%)</td>\n",
       "      <td>night (26.3%)</td>\n",
       "      <td>4 (30.8%)</td>\n",
       "    </tr>\n",
       "    <tr>\n",
       "      <th rowspan=\"2\" valign=\"top\">Кластер № 3</th>\n",
       "      <th>Самый частый</th>\n",
       "      <td>Games (83.0%)</td>\n",
       "      <td>missing (71.8%)</td>\n",
       "      <td>android (71.5%)</td>\n",
       "      <td>android9 (31.7%)</td>\n",
       "      <td>8 (61.8%)</td>\n",
       "      <td>0 (22.4%)</td>\n",
       "      <td>work (54.5%)</td>\n",
       "      <td>3 (41.2%)</td>\n",
       "    </tr>\n",
       "    <tr>\n",
       "      <th>Второе место</th>\n",
       "      <td>missing (6.5%)</td>\n",
       "      <td>Алтайский край (11.0%)</td>\n",
       "      <td>ios (28.5%)</td>\n",
       "      <td>ios14 (23.5%)</td>\n",
       "      <td>7 (38.2%)</td>\n",
       "      <td>1 (20.7%)</td>\n",
       "      <td>night (28.4%)</td>\n",
       "      <td>5 (32.0%)</td>\n",
       "    </tr>\n",
       "    <tr>\n",
       "      <th rowspan=\"2\" valign=\"top\">Кластер № 4</th>\n",
       "      <th>Самый частый</th>\n",
       "      <td>missing (47.8%)</td>\n",
       "      <td>Свердловская область (11.7%)</td>\n",
       "      <td>android (94.1%)</td>\n",
       "      <td>android9 (29.4%)</td>\n",
       "      <td>8 (66.4%)</td>\n",
       "      <td>0 (21.6%)</td>\n",
       "      <td>work (57.5%)</td>\n",
       "      <td>5 (33.1%)</td>\n",
       "    </tr>\n",
       "    <tr>\n",
       "      <th>Второе место</th>\n",
       "      <td>Games (47.4%)</td>\n",
       "      <td>Санкт-Петербург (11.0%)</td>\n",
       "      <td>ios (5.9%)</td>\n",
       "      <td>android8 (19.2%)</td>\n",
       "      <td>7 (33.6%)</td>\n",
       "      <td>1 (19.4%)</td>\n",
       "      <td>night (24.1%)</td>\n",
       "      <td>4 (32.7%)</td>\n",
       "    </tr>\n",
       "  </tbody>\n",
       "</table>\n",
       "</div>"
      ],
      "text/plain": [
       "                             gamecategory                        oblast  \\\n",
       "Кластер № 0 Самый частый    Games (51.8%)                Москва (33.0%)   \n",
       "            Второе место  missing (41.5%)               missing (14.8%)   \n",
       "Кластер № 1 Самый частый    Games (50.4%)                Москва (21.1%)   \n",
       "            Второе место  missing (43.6%)   Свердловская область (9.3%)   \n",
       "Кластер № 2 Самый частый  missing (49.4%)               missing (21.6%)   \n",
       "            Второе место    Games (45.2%)           Башкортостан (9.0%)   \n",
       "Кластер № 3 Самый частый    Games (83.0%)               missing (71.8%)   \n",
       "            Второе место   missing (6.5%)        Алтайский край (11.0%)   \n",
       "Кластер № 4 Самый частый  missing (47.8%)  Свердловская область (11.7%)   \n",
       "            Второе место    Games (47.4%)       Санкт-Петербург (11.0%)   \n",
       "\n",
       "                                        os                osv      month  \\\n",
       "Кластер № 0 Самый частый   android (73.0%)   android9 (26.9%)  8 (61.9%)   \n",
       "            Второе место       ios (27.0%)      ios14 (20.1%)  7 (38.1%)   \n",
       "Кластер № 1 Самый частый  android (100.0%)  android10 (72.9%)  8 (68.1%)   \n",
       "            Второе место            - (0%)  android11 (27.1%)  7 (31.9%)   \n",
       "Кластер № 2 Самый частый   android (77.1%)   android9 (34.2%)  8 (61.5%)   \n",
       "            Второе место       ios (22.9%)   android8 (20.3%)  7 (38.5%)   \n",
       "Кластер № 3 Самый частый   android (71.5%)   android9 (31.7%)  8 (61.8%)   \n",
       "            Второе место       ios (28.5%)      ios14 (23.5%)  7 (38.2%)   \n",
       "Кластер № 4 Самый частый   android (94.1%)   android9 (29.4%)  8 (66.4%)   \n",
       "            Второе место        ios (5.9%)   android8 (19.2%)  7 (33.6%)   \n",
       "\n",
       "                                 wd           hour    Segment  \n",
       "Кластер № 0 Самый частый  0 (20.6%)   work (56.4%)  3 (38.7%)  \n",
       "            Второе место  1 (18.9%)  night (26.9%)  5 (30.6%)  \n",
       "Кластер № 1 Самый частый  0 (21.6%)   work (57.5%)  5 (34.5%)  \n",
       "            Второе место  1 (20.2%)  night (24.5%)  4 (33.4%)  \n",
       "Кластер № 2 Самый частый  0 (21.4%)   work (55.7%)  3 (37.7%)  \n",
       "            Второе место  1 (19.5%)  night (26.3%)  4 (30.8%)  \n",
       "Кластер № 3 Самый частый  0 (22.4%)   work (54.5%)  3 (41.2%)  \n",
       "            Второе место  1 (20.7%)  night (28.4%)  5 (32.0%)  \n",
       "Кластер № 4 Самый частый  0 (21.6%)   work (57.5%)  5 (33.1%)  \n",
       "            Второе место  1 (19.4%)  night (24.1%)  4 (32.7%)  "
      ]
     },
     "execution_count": 172,
     "metadata": {},
     "output_type": "execute_result"
    }
   ],
   "source": [
    "table_generation(X_small)"
   ]
  },
  {
   "cell_type": "markdown",
   "metadata": {},
   "source": [
    "# [TODO] Latent Class Analysis"
   ]
  },
  {
   "cell_type": "markdown",
   "metadata": {},
   "source": [
    "https://www.oxfordclinicalpsych.com/view/10.1093/med:psych/9780190243654.001.0001/med-9780190243654-chapter-15?gclid=Cj0KCQiAnaeNBhCUARIsABEee8X2xl45364ttSKCkADrf7D1i8u2JBIcGgUfuNIGlEwKbN9yFvIgiqMaAqC6EALw_wcB\n",
    "\n",
    "https://en.wikipedia.org/wiki/Latent_class_model\n",
    "\n",
    "https://github.com/dasirra/latent-class-analysis/blob/master/src/test_lca.ipynb"
   ]
  },
  {
   "cell_type": "code",
   "execution_count": null,
   "metadata": {},
   "outputs": [],
   "source": []
  },
  {
   "cell_type": "code",
   "execution_count": null,
   "metadata": {},
   "outputs": [],
   "source": []
  },
  {
   "cell_type": "code",
   "execution_count": null,
   "metadata": {},
   "outputs": [],
   "source": []
  },
  {
   "cell_type": "markdown",
   "metadata": {},
   "source": [
    "# AgglomerativeClustering"
   ]
  },
  {
   "cell_type": "code",
   "execution_count": 175,
   "metadata": {},
   "outputs": [],
   "source": [
    "for col in X.columns:\n",
    "    X_small[col] = le[col].transform(X_small[col])"
   ]
  },
  {
   "cell_type": "code",
   "execution_count": 176,
   "metadata": {},
   "outputs": [
    {
     "data": {
      "text/plain": [
       "array([0, 0, 0, ..., 0, 0, 0])"
      ]
     },
     "execution_count": 176,
     "metadata": {},
     "output_type": "execute_result"
    }
   ],
   "source": [
    "clustering = AgglomerativeClustering().fit(X_small.drop('cluster', axis=1))\n",
    "clustering\n",
    "\n",
    "clustering.labels_"
   ]
  },
  {
   "cell_type": "code",
   "execution_count": 177,
   "metadata": {},
   "outputs": [],
   "source": [
    "X_small['cluster'] = clustering.labels_"
   ]
  },
  {
   "cell_type": "code",
   "execution_count": 178,
   "metadata": {},
   "outputs": [],
   "source": [
    "# X_small['segment'] = y_small"
   ]
  },
  {
   "cell_type": "code",
   "execution_count": 180,
   "metadata": {},
   "outputs": [
    {
     "data": {
      "text/plain": [
       "0    18119\n",
       "1    11879\n",
       "Name: cluster, dtype: int64"
      ]
     },
     "execution_count": 180,
     "metadata": {},
     "output_type": "execute_result"
    }
   ],
   "source": [
    "X_small['cluster'].value_counts()"
   ]
  },
  {
   "cell_type": "code",
   "execution_count": 33,
   "metadata": {},
   "outputs": [
    {
     "data": {
      "text/plain": [
       "0    18119\n",
       "1    11879\n",
       "Name: cluster, dtype: int64"
      ]
     },
     "execution_count": 33,
     "metadata": {},
     "output_type": "execute_result"
    }
   ],
   "source": [
    "X_small['cluster'].value_counts()"
   ]
  },
  {
   "cell_type": "code",
   "execution_count": 34,
   "metadata": {},
   "outputs": [
    {
     "data": {
      "text/html": [
       "<div>\n",
       "<style scoped>\n",
       "    .dataframe tbody tr th:only-of-type {\n",
       "        vertical-align: middle;\n",
       "    }\n",
       "\n",
       "    .dataframe tbody tr th {\n",
       "        vertical-align: top;\n",
       "    }\n",
       "\n",
       "    .dataframe thead th {\n",
       "        text-align: right;\n",
       "    }\n",
       "</style>\n",
       "<table border=\"1\" class=\"dataframe\">\n",
       "  <thead>\n",
       "    <tr style=\"text-align: right;\">\n",
       "      <th></th>\n",
       "      <th>gamecategory</th>\n",
       "      <th>oblast</th>\n",
       "      <th>os</th>\n",
       "      <th>osv</th>\n",
       "      <th>month</th>\n",
       "      <th>wd</th>\n",
       "      <th>hour</th>\n",
       "      <th>Segment</th>\n",
       "      <th>cluster</th>\n",
       "      <th>segment</th>\n",
       "    </tr>\n",
       "  </thead>\n",
       "  <tbody>\n",
       "    <tr>\n",
       "      <th>24312150</th>\n",
       "      <td>25</td>\n",
       "      <td>48</td>\n",
       "      <td>0</td>\n",
       "      <td>2</td>\n",
       "      <td>1</td>\n",
       "      <td>0</td>\n",
       "      <td>1</td>\n",
       "      <td>4</td>\n",
       "      <td>0</td>\n",
       "      <td>4</td>\n",
       "    </tr>\n",
       "    <tr>\n",
       "      <th>29973861</th>\n",
       "      <td>25</td>\n",
       "      <td>21</td>\n",
       "      <td>0</td>\n",
       "      <td>26</td>\n",
       "      <td>0</td>\n",
       "      <td>6</td>\n",
       "      <td>1</td>\n",
       "      <td>3</td>\n",
       "      <td>0</td>\n",
       "      <td>3</td>\n",
       "    </tr>\n",
       "    <tr>\n",
       "      <th>30738000</th>\n",
       "      <td>7</td>\n",
       "      <td>5</td>\n",
       "      <td>0</td>\n",
       "      <td>27</td>\n",
       "      <td>1</td>\n",
       "      <td>0</td>\n",
       "      <td>0</td>\n",
       "      <td>5</td>\n",
       "      <td>0</td>\n",
       "      <td>5</td>\n",
       "    </tr>\n",
       "    <tr>\n",
       "      <th>42373048</th>\n",
       "      <td>7</td>\n",
       "      <td>48</td>\n",
       "      <td>1</td>\n",
       "      <td>34</td>\n",
       "      <td>1</td>\n",
       "      <td>3</td>\n",
       "      <td>2</td>\n",
       "      <td>3</td>\n",
       "      <td>0</td>\n",
       "      <td>3</td>\n",
       "    </tr>\n",
       "    <tr>\n",
       "      <th>15067441</th>\n",
       "      <td>7</td>\n",
       "      <td>36</td>\n",
       "      <td>0</td>\n",
       "      <td>26</td>\n",
       "      <td>0</td>\n",
       "      <td>4</td>\n",
       "      <td>2</td>\n",
       "      <td>3</td>\n",
       "      <td>0</td>\n",
       "      <td>3</td>\n",
       "    </tr>\n",
       "  </tbody>\n",
       "</table>\n",
       "</div>"
      ],
      "text/plain": [
       "          gamecategory  oblast  os  osv  month  wd  hour  Segment  cluster  \\\n",
       "24312150            25      48   0    2      1   0     1        4        0   \n",
       "29973861            25      21   0   26      0   6     1        3        0   \n",
       "30738000             7       5   0   27      1   0     0        5        0   \n",
       "42373048             7      48   1   34      1   3     2        3        0   \n",
       "15067441             7      36   0   26      0   4     2        3        0   \n",
       "\n",
       "          segment  \n",
       "24312150        4  \n",
       "29973861        3  \n",
       "30738000        5  \n",
       "42373048        3  \n",
       "15067441        3  "
      ]
     },
     "execution_count": 34,
     "metadata": {},
     "output_type": "execute_result"
    }
   ],
   "source": [
    "X_small.head()"
   ]
  },
  {
   "cell_type": "code",
   "execution_count": 37,
   "metadata": {},
   "outputs": [],
   "source": [
    "import seaborn as sns"
   ]
  },
  {
   "cell_type": "code",
   "execution_count": 39,
   "metadata": {},
   "outputs": [
    {
     "data": {
      "text/plain": [
       "<AxesSubplot:xlabel='Segment', ylabel='Count'>"
      ]
     },
     "execution_count": 39,
     "metadata": {},
     "output_type": "execute_result"
    },
    {
     "data": {
      "image/png": "[encoded data removed]",
      "text/plain": [
       "<Figure size 432x288 with 1 Axes>"
      ]
     },
     "metadata": {
      "needs_background": "light"
     },
     "output_type": "display_data"
    }
   ],
   "source": [
    "sns.histplot(data=X_small, x=\"cluster\", hue=\"Segment\", multiple=\"stack\")"
   ]
  },
  {
   "cell_type": "code",
   "execution_count": 183,
   "metadata": {},
   "outputs": [],
   "source": [
    "for col in X.columns:\n",
    "    X_small[col] = le[col].inverse_transform(X_small[col])"
   ]
  },
  {
   "cell_type": "code",
   "execution_count": 184,
   "metadata": {},
   "outputs": [
    {
     "data": {
      "text/html": [
       "<div>\n",
       "<style scoped>\n",
       "    .dataframe tbody tr th:only-of-type {\n",
       "        vertical-align: middle;\n",
       "    }\n",
       "\n",
       "    .dataframe tbody tr th {\n",
       "        vertical-align: top;\n",
       "    }\n",
       "\n",
       "    .dataframe thead th {\n",
       "        text-align: right;\n",
       "    }\n",
       "</style>\n",
       "<table border=\"1\" class=\"dataframe\">\n",
       "  <thead>\n",
       "    <tr style=\"text-align: right;\">\n",
       "      <th></th>\n",
       "      <th></th>\n",
       "      <th>gamecategory</th>\n",
       "      <th>oblast</th>\n",
       "      <th>os</th>\n",
       "      <th>osv</th>\n",
       "      <th>month</th>\n",
       "      <th>wd</th>\n",
       "      <th>hour</th>\n",
       "      <th>Segment</th>\n",
       "    </tr>\n",
       "  </thead>\n",
       "  <tbody>\n",
       "    <tr>\n",
       "      <th rowspan=\"2\" valign=\"top\">Кластер № 0</th>\n",
       "      <th>Самый частый</th>\n",
       "      <td>Games (50.7%)</td>\n",
       "      <td>Москва (28.0%)</td>\n",
       "      <td>android (88.5%)</td>\n",
       "      <td>android10 (35.7%)</td>\n",
       "      <td>8 (65.2%)</td>\n",
       "      <td>0 (21.4%)</td>\n",
       "      <td>work (56.7%)</td>\n",
       "      <td>3 (33.5%)</td>\n",
       "    </tr>\n",
       "    <tr>\n",
       "      <th>Второе место</th>\n",
       "      <td>missing (43.3%)</td>\n",
       "      <td>missing (13.1%)</td>\n",
       "      <td>ios (11.5%)</td>\n",
       "      <td>android9 (17.5%)</td>\n",
       "      <td>7 (34.8%)</td>\n",
       "      <td>1 (19.6%)</td>\n",
       "      <td>night (25.9%)</td>\n",
       "      <td>5 (32.7%)</td>\n",
       "    </tr>\n",
       "    <tr>\n",
       "      <th rowspan=\"2\" valign=\"top\">Кластер № 1</th>\n",
       "      <th>Самый частый</th>\n",
       "      <td>Games (50.9%)</td>\n",
       "      <td>Свердловская область (17.8%)</td>\n",
       "      <td>android (89.8%)</td>\n",
       "      <td>android10 (35.9%)</td>\n",
       "      <td>8 (65.7%)</td>\n",
       "      <td>0 (21.2%)</td>\n",
       "      <td>work (57.4%)</td>\n",
       "      <td>3 (33.5%)</td>\n",
       "    </tr>\n",
       "    <tr>\n",
       "      <th>Второе место</th>\n",
       "      <td>missing (43.0%)</td>\n",
       "      <td>Санкт-Петербург (17.5%)</td>\n",
       "      <td>ios (10.2%)</td>\n",
       "      <td>android9 (17.9%)</td>\n",
       "      <td>7 (34.3%)</td>\n",
       "      <td>1 (19.8%)</td>\n",
       "      <td>night (24.3%)</td>\n",
       "      <td>5 (32.7%)</td>\n",
       "    </tr>\n",
       "  </tbody>\n",
       "</table>\n",
       "</div>"
      ],
      "text/plain": [
       "                             gamecategory                        oblast  \\\n",
       "Кластер № 0 Самый частый    Games (50.7%)                Москва (28.0%)   \n",
       "            Второе место  missing (43.3%)               missing (13.1%)   \n",
       "Кластер № 1 Самый частый    Games (50.9%)  Свердловская область (17.8%)   \n",
       "            Второе место  missing (43.0%)       Санкт-Петербург (17.5%)   \n",
       "\n",
       "                                       os                osv      month  \\\n",
       "Кластер № 0 Самый частый  android (88.5%)  android10 (35.7%)  8 (65.2%)   \n",
       "            Второе место      ios (11.5%)   android9 (17.5%)  7 (34.8%)   \n",
       "Кластер № 1 Самый частый  android (89.8%)  android10 (35.9%)  8 (65.7%)   \n",
       "            Второе место      ios (10.2%)   android9 (17.9%)  7 (34.3%)   \n",
       "\n",
       "                                 wd           hour    Segment  \n",
       "Кластер № 0 Самый частый  0 (21.4%)   work (56.7%)  3 (33.5%)  \n",
       "            Второе место  1 (19.6%)  night (25.9%)  5 (32.7%)  \n",
       "Кластер № 1 Самый частый  0 (21.2%)   work (57.4%)  3 (33.5%)  \n",
       "            Второе место  1 (19.8%)  night (24.3%)  5 (32.7%)  "
      ]
     },
     "execution_count": 184,
     "metadata": {},
     "output_type": "execute_result"
    }
   ],
   "source": [
    "table_generation(X_small)"
   ]
  },
  {
   "cell_type": "markdown",
   "metadata": {},
   "source": [
    "Вывод: работает недостаточно хорошо"
   ]
  },
  {
   "cell_type": "markdown",
   "metadata": {},
   "source": [
    "# K-Modes"
   ]
  },
  {
   "cell_type": "markdown",
   "metadata": {},
   "source": [
    "https://www.analyticsvidhya.com/blog/2021/06/kmodes-clustering-algorithm-for-categorical-data/"
   ]
  },
  {
   "cell_type": "code",
   "execution_count": 205,
   "metadata": {},
   "outputs": [],
   "source": [
    "# !pip install kmodes\n",
    "from kmodes.kmodes import KModes"
   ]
  },
  {
   "cell_type": "code",
   "execution_count": 206,
   "metadata": {},
   "outputs": [],
   "source": [
    "# for col in X.columns:\n",
    "#     X_small[col] = le[col].transform(X_small[col])"
   ]
  },
  {
   "cell_type": "code",
   "execution_count": 218,
   "metadata": {},
   "outputs": [],
   "source": [
    "# Elbow curve to find optimal K\n",
    "cost = []\n",
    "K = range(0, 20)\n",
    "for num_clusters in list(K):\n",
    "    kmode = KModes(n_clusters=num_clusters, init = \"random\", n_init = 5, verbose=0)\n",
    "    kmode.fit_predict(X_small.drop('cluster', axis=1))\n",
    "    cost.append(kmode.cost_)\n",
    "    \n",
    "plt.plot(K, cost, 'bx-')\n",
    "plt.xlabel('No. of clusters')\n",
    "plt.ylabel('Cost')\n",
    "plt.title('Elbow Method For Optimal k')\n",
    "plt.show()"
   ]
  },
  {
   "cell_type": "code",
   "execution_count": 244,
   "metadata": {},
   "outputs": [
    {
     "data": {
      "text/plain": [
       "array([0, 3, 2, ..., 1, 3, 1], dtype=uint16)"
      ]
     },
     "execution_count": 244,
     "metadata": {},
     "output_type": "execute_result"
    }
   ],
   "source": [
    "# Building the model with 8 clusters\n",
    "kmode = KModes(n_clusters=8, init = \"random\", n_init = 5, verbose=0, random_state=10)\n",
    "clusters = kmode.fit_predict(X_small.drop('cluster', axis=1))\n",
    "clusters"
   ]
  },
  {
   "cell_type": "code",
   "execution_count": 245,
   "metadata": {},
   "outputs": [],
   "source": [
    "X_small['cluster'] = clusters"
   ]
  },
  {
   "cell_type": "code",
   "execution_count": 246,
   "metadata": {},
   "outputs": [
    {
     "data": {
      "text/plain": [
       "<AxesSubplot:xlabel='cluster', ylabel='Count'>"
      ]
     },
     "execution_count": 246,
     "metadata": {},
     "output_type": "execute_result"
    },
    {
     "data": {
      "image/png": "[encoded data removed]",
      "text/plain": [
       "<Figure size 864x288 with 1 Axes>"
      ]
     },
     "metadata": {
      "needs_background": "light"
     },
     "output_type": "display_data"
    }
   ],
   "source": [
    "plt.figure(figsize=(12,4))\n",
    "sns.histplot(data=X_small, x=\"cluster\", hue=\"Segment\", multiple=\"stack\")"
   ]
  },
  {
   "cell_type": "code",
   "execution_count": 247,
   "metadata": {},
   "outputs": [],
   "source": [
    "# for col in X.columns:\n",
    "#     X_small[col] = le[col].inverse_transform(X_small[col])"
   ]
  },
  {
   "cell_type": "code",
   "execution_count": 248,
   "metadata": {},
   "outputs": [
    {
     "data": {
      "text/html": [
       "<div>\n",
       "<style scoped>\n",
       "    .dataframe tbody tr th:only-of-type {\n",
       "        vertical-align: middle;\n",
       "    }\n",
       "\n",
       "    .dataframe tbody tr th {\n",
       "        vertical-align: top;\n",
       "    }\n",
       "\n",
       "    .dataframe thead th {\n",
       "        text-align: right;\n",
       "    }\n",
       "</style>\n",
       "<table border=\"1\" class=\"dataframe\">\n",
       "  <thead>\n",
       "    <tr style=\"text-align: right;\">\n",
       "      <th></th>\n",
       "      <th></th>\n",
       "      <th>gamecategory</th>\n",
       "      <th>oblast</th>\n",
       "      <th>os</th>\n",
       "      <th>osv</th>\n",
       "      <th>month</th>\n",
       "      <th>wd</th>\n",
       "      <th>hour</th>\n",
       "      <th>Segment</th>\n",
       "    </tr>\n",
       "  </thead>\n",
       "  <tbody>\n",
       "    <tr>\n",
       "      <th rowspan=\"2\" valign=\"top\">Кластер № 0</th>\n",
       "      <th>Самый частый</th>\n",
       "      <td>missing (79.5%)</td>\n",
       "      <td>Москва (20.7%)</td>\n",
       "      <td>android (96.6%)</td>\n",
       "      <td>android11 (35.4%)</td>\n",
       "      <td>8 (79.9%)</td>\n",
       "      <td>1 (40.9%)</td>\n",
       "      <td>work (79.5%)</td>\n",
       "      <td>4 (53.6%)</td>\n",
       "    </tr>\n",
       "    <tr>\n",
       "      <th>Второе место</th>\n",
       "      <td>Games (14.6%)</td>\n",
       "      <td>Краснодарский край (7.1%)</td>\n",
       "      <td>ios (3.4%)</td>\n",
       "      <td>android10 (22.8%)</td>\n",
       "      <td>7 (20.1%)</td>\n",
       "      <td>0 (18.9%)</td>\n",
       "      <td>evening (10.6%)</td>\n",
       "      <td>5 (30.9%)</td>\n",
       "    </tr>\n",
       "    <tr>\n",
       "      <th rowspan=\"2\" valign=\"top\">Кластер № 1</th>\n",
       "      <th>Самый частый</th>\n",
       "      <td>Games (79.4%)</td>\n",
       "      <td>Москва (28.5%)</td>\n",
       "      <td>ios (76.7%)</td>\n",
       "      <td>ios14 (62.3%)</td>\n",
       "      <td>7 (71.6%)</td>\n",
       "      <td>5 (21.1%)</td>\n",
       "      <td>night (43.6%)</td>\n",
       "      <td>3 (86.2%)</td>\n",
       "    </tr>\n",
       "    <tr>\n",
       "      <th>Второе место</th>\n",
       "      <td>missing (11.0%)</td>\n",
       "      <td>Краснодарский край (7.9%)</td>\n",
       "      <td>android (23.3%)</td>\n",
       "      <td>ios12 (8.0%)</td>\n",
       "      <td>8 (28.4%)</td>\n",
       "      <td>4 (15.9%)</td>\n",
       "      <td>work (31.3%)</td>\n",
       "      <td>4 (5.8%)</td>\n",
       "    </tr>\n",
       "    <tr>\n",
       "      <th rowspan=\"2\" valign=\"top\">Кластер № 2</th>\n",
       "      <th>Самый частый</th>\n",
       "      <td>Games (88.1%)</td>\n",
       "      <td>Москва (18.7%)</td>\n",
       "      <td>android (95.4%)</td>\n",
       "      <td>android8 (36.7%)</td>\n",
       "      <td>8 (75.3%)</td>\n",
       "      <td>0 (58.5%)</td>\n",
       "      <td>work (68.0%)</td>\n",
       "      <td>4 (53.9%)</td>\n",
       "    </tr>\n",
       "    <tr>\n",
       "      <th>Второе место</th>\n",
       "      <td>missing (6.7%)</td>\n",
       "      <td>missing (7.9%)</td>\n",
       "      <td>ios (4.6%)</td>\n",
       "      <td>android10 (19.3%)</td>\n",
       "      <td>7 (24.7%)</td>\n",
       "      <td>3 (8.9%)</td>\n",
       "      <td>night (17.1%)</td>\n",
       "      <td>5 (30.1%)</td>\n",
       "    </tr>\n",
       "    <tr>\n",
       "      <th rowspan=\"2\" valign=\"top\">Кластер № 3</th>\n",
       "      <th>Самый частый</th>\n",
       "      <td>missing (73.7%)</td>\n",
       "      <td>missing (18.2%)</td>\n",
       "      <td>android (99.6%)</td>\n",
       "      <td>android10 (63.1%)</td>\n",
       "      <td>7 (77.2%)</td>\n",
       "      <td>2 (26.1%)</td>\n",
       "      <td>night (53.4%)</td>\n",
       "      <td>3 (71.0%)</td>\n",
       "    </tr>\n",
       "    <tr>\n",
       "      <th>Второе место</th>\n",
       "      <td>Games (21.4%)</td>\n",
       "      <td>Краснодарский край (7.4%)</td>\n",
       "      <td>ios (0.4%)</td>\n",
       "      <td>android9 (13.1%)</td>\n",
       "      <td>8 (22.8%)</td>\n",
       "      <td>0 (15.6%)</td>\n",
       "      <td>work (28.3%)</td>\n",
       "      <td>4 (14.2%)</td>\n",
       "    </tr>\n",
       "    <tr>\n",
       "      <th rowspan=\"2\" valign=\"top\">Кластер № 4</th>\n",
       "      <th>Самый частый</th>\n",
       "      <td>missing (72.8%)</td>\n",
       "      <td>Свердловская область (22.8%)</td>\n",
       "      <td>android (98.8%)</td>\n",
       "      <td>android9 (59.6%)</td>\n",
       "      <td>8 (86.7%)</td>\n",
       "      <td>1 (35.0%)</td>\n",
       "      <td>night (77.2%)</td>\n",
       "      <td>4 (51.3%)</td>\n",
       "    </tr>\n",
       "    <tr>\n",
       "      <th>Второе место</th>\n",
       "      <td>Games (21.2%)</td>\n",
       "      <td>Санкт-Петербург (6.7%)</td>\n",
       "      <td>ios (1.2%)</td>\n",
       "      <td>android10 (16.2%)</td>\n",
       "      <td>7 (13.3%)</td>\n",
       "      <td>0 (15.8%)</td>\n",
       "      <td>evening (16.2%)</td>\n",
       "      <td>5 (37.1%)</td>\n",
       "    </tr>\n",
       "    <tr>\n",
       "      <th rowspan=\"2\" valign=\"top\">Кластер № 5</th>\n",
       "      <th>Самый частый</th>\n",
       "      <td>Games (89.4%)</td>\n",
       "      <td>Татарстан (15.3%)</td>\n",
       "      <td>android (95.7%)</td>\n",
       "      <td>android11 (33.3%)</td>\n",
       "      <td>8 (79.0%)</td>\n",
       "      <td>5 (35.3%)</td>\n",
       "      <td>work (69.4%)</td>\n",
       "      <td>3 (87.8%)</td>\n",
       "    </tr>\n",
       "    <tr>\n",
       "      <th>Второе место</th>\n",
       "      <td>missing (5.0%)</td>\n",
       "      <td>Краснодарский край (8.0%)</td>\n",
       "      <td>ios (4.3%)</td>\n",
       "      <td>android10 (25.7%)</td>\n",
       "      <td>7 (21.0%)</td>\n",
       "      <td>6 (16.8%)</td>\n",
       "      <td>evening (20.1%)</td>\n",
       "      <td>5 (9.7%)</td>\n",
       "    </tr>\n",
       "    <tr>\n",
       "      <th rowspan=\"2\" valign=\"top\">Кластер № 6</th>\n",
       "      <th>Самый частый</th>\n",
       "      <td>missing (67.1%)</td>\n",
       "      <td>Москва (25.1%)</td>\n",
       "      <td>android (99.5%)</td>\n",
       "      <td>android10 (63.9%)</td>\n",
       "      <td>7 (84.2%)</td>\n",
       "      <td>3 (39.1%)</td>\n",
       "      <td>evening (68.4%)</td>\n",
       "      <td>4 (77.3%)</td>\n",
       "    </tr>\n",
       "    <tr>\n",
       "      <th>Второе место</th>\n",
       "      <td>Games (28.0%)</td>\n",
       "      <td>Краснодарский край (7.4%)</td>\n",
       "      <td>ios (0.5%)</td>\n",
       "      <td>android9 (12.1%)</td>\n",
       "      <td>8 (15.8%)</td>\n",
       "      <td>0 (19.2%)</td>\n",
       "      <td>work (25.8%)</td>\n",
       "      <td>3 (12.7%)</td>\n",
       "    </tr>\n",
       "    <tr>\n",
       "      <th rowspan=\"2\" valign=\"top\">Кластер № 7</th>\n",
       "      <th>Самый частый</th>\n",
       "      <td>Games (72.8%)</td>\n",
       "      <td>Москва (19.6%)</td>\n",
       "      <td>android (93.9%)</td>\n",
       "      <td>android10 (62.8%)</td>\n",
       "      <td>8 (98.2%)</td>\n",
       "      <td>2 (48.0%)</td>\n",
       "      <td>work (81.6%)</td>\n",
       "      <td>5 (91.3%)</td>\n",
       "    </tr>\n",
       "    <tr>\n",
       "      <th>Второе место</th>\n",
       "      <td>missing (20.9%)</td>\n",
       "      <td>missing (6.8%)</td>\n",
       "      <td>ios (6.1%)</td>\n",
       "      <td>android9 (12.7%)</td>\n",
       "      <td>7 (1.8%)</td>\n",
       "      <td>1 (21.3%)</td>\n",
       "      <td>night (13.2%)</td>\n",
       "      <td>3 (4.2%)</td>\n",
       "    </tr>\n",
       "  </tbody>\n",
       "</table>\n",
       "</div>"
      ],
      "text/plain": [
       "                             gamecategory                        oblast  \\\n",
       "Кластер № 0 Самый частый  missing (79.5%)                Москва (20.7%)   \n",
       "            Второе место    Games (14.6%)     Краснодарский край (7.1%)   \n",
       "Кластер № 1 Самый частый    Games (79.4%)                Москва (28.5%)   \n",
       "            Второе место  missing (11.0%)     Краснодарский край (7.9%)   \n",
       "Кластер № 2 Самый частый    Games (88.1%)                Москва (18.7%)   \n",
       "            Второе место   missing (6.7%)                missing (7.9%)   \n",
       "Кластер № 3 Самый частый  missing (73.7%)               missing (18.2%)   \n",
       "            Второе место    Games (21.4%)     Краснодарский край (7.4%)   \n",
       "Кластер № 4 Самый частый  missing (72.8%)  Свердловская область (22.8%)   \n",
       "            Второе место    Games (21.2%)        Санкт-Петербург (6.7%)   \n",
       "Кластер № 5 Самый частый    Games (89.4%)             Татарстан (15.3%)   \n",
       "            Второе место   missing (5.0%)     Краснодарский край (8.0%)   \n",
       "Кластер № 6 Самый частый  missing (67.1%)                Москва (25.1%)   \n",
       "            Второе место    Games (28.0%)     Краснодарский край (7.4%)   \n",
       "Кластер № 7 Самый частый    Games (72.8%)                Москва (19.6%)   \n",
       "            Второе место  missing (20.9%)                missing (6.8%)   \n",
       "\n",
       "                                       os                osv      month  \\\n",
       "Кластер № 0 Самый частый  android (96.6%)  android11 (35.4%)  8 (79.9%)   \n",
       "            Второе место       ios (3.4%)  android10 (22.8%)  7 (20.1%)   \n",
       "Кластер № 1 Самый частый      ios (76.7%)      ios14 (62.3%)  7 (71.6%)   \n",
       "            Второе место  android (23.3%)       ios12 (8.0%)  8 (28.4%)   \n",
       "Кластер № 2 Самый частый  android (95.4%)   android8 (36.7%)  8 (75.3%)   \n",
       "            Второе место       ios (4.6%)  android10 (19.3%)  7 (24.7%)   \n",
       "Кластер № 3 Самый частый  android (99.6%)  android10 (63.1%)  7 (77.2%)   \n",
       "            Второе место       ios (0.4%)   android9 (13.1%)  8 (22.8%)   \n",
       "Кластер № 4 Самый частый  android (98.8%)   android9 (59.6%)  8 (86.7%)   \n",
       "            Второе место       ios (1.2%)  android10 (16.2%)  7 (13.3%)   \n",
       "Кластер № 5 Самый частый  android (95.7%)  android11 (33.3%)  8 (79.0%)   \n",
       "            Второе место       ios (4.3%)  android10 (25.7%)  7 (21.0%)   \n",
       "Кластер № 6 Самый частый  android (99.5%)  android10 (63.9%)  7 (84.2%)   \n",
       "            Второе место       ios (0.5%)   android9 (12.1%)  8 (15.8%)   \n",
       "Кластер № 7 Самый частый  android (93.9%)  android10 (62.8%)  8 (98.2%)   \n",
       "            Второе место       ios (6.1%)   android9 (12.7%)   7 (1.8%)   \n",
       "\n",
       "                                 wd             hour    Segment  \n",
       "Кластер № 0 Самый частый  1 (40.9%)     work (79.5%)  4 (53.6%)  \n",
       "            Второе место  0 (18.9%)  evening (10.6%)  5 (30.9%)  \n",
       "Кластер № 1 Самый частый  5 (21.1%)    night (43.6%)  3 (86.2%)  \n",
       "            Второе место  4 (15.9%)     work (31.3%)   4 (5.8%)  \n",
       "Кластер № 2 Самый частый  0 (58.5%)     work (68.0%)  4 (53.9%)  \n",
       "            Второе место   3 (8.9%)    night (17.1%)  5 (30.1%)  \n",
       "Кластер № 3 Самый частый  2 (26.1%)    night (53.4%)  3 (71.0%)  \n",
       "            Второе место  0 (15.6%)     work (28.3%)  4 (14.2%)  \n",
       "Кластер № 4 Самый частый  1 (35.0%)    night (77.2%)  4 (51.3%)  \n",
       "            Второе место  0 (15.8%)  evening (16.2%)  5 (37.1%)  \n",
       "Кластер № 5 Самый частый  5 (35.3%)     work (69.4%)  3 (87.8%)  \n",
       "            Второе место  6 (16.8%)  evening (20.1%)   5 (9.7%)  \n",
       "Кластер № 6 Самый частый  3 (39.1%)  evening (68.4%)  4 (77.3%)  \n",
       "            Второе место  0 (19.2%)     work (25.8%)  3 (12.7%)  \n",
       "Кластер № 7 Самый частый  2 (48.0%)     work (81.6%)  5 (91.3%)  \n",
       "            Второе место  1 (21.3%)    night (13.2%)   3 (4.2%)  "
      ]
     },
     "execution_count": 248,
     "metadata": {},
     "output_type": "execute_result"
    }
   ],
   "source": [
    "table_generation(X_small)"
   ]
  },
  {
   "cell_type": "code",
   "execution_count": 249,
   "metadata": {},
   "outputs": [],
   "source": [
    "with open('model.pickle', 'wb') as f:\n",
    "    pickle.dump(kmode, f)"
   ]
  },
  {
   "cell_type": "code",
   "execution_count": 261,
   "metadata": {},
   "outputs": [],
   "source": [
    "def model_inference(X):\n",
    "    X = X.copy()\n",
    "    if 'cluster' in X.columns:\n",
    "        X = X.drop('cluster', axis=1)\n",
    "    \n",
    "    with open('model.pickle', 'rb') as f:\n",
    "        kmode = pickle.load(f)\n",
    "    \n",
    "    clusters = kmode.predict(X)\n",
    "    return clusters"
   ]
  },
  {
   "cell_type": "code",
   "execution_count": null,
   "metadata": {},
   "outputs": [],
   "source": [
    "Вывод: работает хорошо"
   ]
  },
  {
   "cell_type": "markdown",
   "metadata": {},
   "source": [
    "# ROCK \n",
    "\n",
    "http://theory.stanford.edu/~sudipto/mypapers/categorical.pdf\n",
    "\n",
    "https://pyclustering.github.io/docs/0.9.0/html/d8/dde/classpyclustering_1_1cluster_1_1rock_1_1rock.html\n",
    "\n",
    "https://stackoverflow.com/questions/30211577/clustering-categorical-data-set-with-distance-based-approach"
   ]
  },
  {
   "cell_type": "code",
   "execution_count": null,
   "metadata": {},
   "outputs": [],
   "source": [
    "from pyclustering.cluster import cluster_visualizer\n",
    "from pyclustering.cluster.rock import rock\n",
    "# Create instance of ROCK algorithm for cluster analysis. Seven clusters should be allocated.\n",
    "rock_instance = rock(X_small.drop('cluster', axis=1), 1.0, 8)\n",
    "# Run cluster analysis.\n",
    "rock_instance.process()\n",
    "# Obtain results of clustering.\n",
    "clusters = rock_instance.get_clusters()\n",
    "# Visualize clustering results.\n",
    "visualizer = cluster_visualizer()\n",
    "visualizer.append_clusters(clusters, sample)\n",
    "visualizer.show()"
   ]
  },
  {
   "cell_type": "code",
   "execution_count": null,
   "metadata": {},
   "outputs": [],
   "source": []
  },
  {
   "cell_type": "markdown",
   "metadata": {},
   "source": [
    "# Gower distance"
   ]
  },
  {
   "cell_type": "markdown",
   "metadata": {},
   "source": [
    "Gower Similarity (GS) was first defined by J. C. Gower in 1971 [2]. To calculate the similarity between observations i and j (e.g., two customers), GS is computed as the average of partial similarities (ps) across the m features of the observation.\n",
    "\n",
    "https://towardsdatascience.com/clustering-on-numerical-and-categorical-features-6e0ebcf1cbad"
   ]
  },
  {
   "cell_type": "code",
   "execution_count": 15,
   "metadata": {},
   "outputs": [
    {
     "name": "stderr",
     "output_type": "stream",
     "text": [
      "/var/folders/m2/zw_q8jrs4s90wpm6fc798c9w0000gn/T/ipykernel_46970/1990368804.py:3: SettingWithCopyWarning: \n",
      "A value is trying to be set on a copy of a slice from a DataFrame.\n",
      "Try using .loc[row_indexer,col_indexer] = value instead\n",
      "\n",
      "See the caveats in the documentation: https://pandas.pydata.org/pandas-docs/stable/user_guide/indexing.html#returning-a-view-versus-a-copy\n",
      "  X_small[col] = le[col].inverse_transform(X_small[col])\n"
     ]
    }
   ],
   "source": [
    "for col in X.columns:\n",
    "\n",
    "    X_small[col] = le[col].inverse_transform(X_small[col])"
   ]
  },
  {
   "cell_type": "code",
   "execution_count": 219,
   "metadata": {},
   "outputs": [],
   "source": [
    "import gower\n",
    "from sklearn.cluster import DBSCAN\n",
    "\n",
    "dist_matrix = gower.gower_matrix(X_small.drop('cluster', axis=1))\n",
    "db = DBSCAN(eps = 0.3, min_samples = 10, metric = \"precomputed\").fit(dist_matrix)\n",
    "labels = db.labels_"
   ]
  },
  {
   "cell_type": "code",
   "execution_count": 220,
   "metadata": {},
   "outputs": [
    {
     "data": {
      "text/plain": [
       "array([0, 0, 0, ..., 0, 0, 0])"
      ]
     },
     "execution_count": 220,
     "metadata": {},
     "output_type": "execute_result"
    }
   ],
   "source": [
    "labels"
   ]
  },
  {
   "cell_type": "code",
   "execution_count": 221,
   "metadata": {},
   "outputs": [],
   "source": [
    "X_small['cluster'] = labels"
   ]
  },
  {
   "cell_type": "code",
   "execution_count": 227,
   "metadata": {},
   "outputs": [
    {
     "data": {
      "text/html": [
       "<div>\n",
       "<style scoped>\n",
       "    .dataframe tbody tr th:only-of-type {\n",
       "        vertical-align: middle;\n",
       "    }\n",
       "\n",
       "    .dataframe tbody tr th {\n",
       "        vertical-align: top;\n",
       "    }\n",
       "\n",
       "    .dataframe thead th {\n",
       "        text-align: right;\n",
       "    }\n",
       "</style>\n",
       "<table border=\"1\" class=\"dataframe\">\n",
       "  <thead>\n",
       "    <tr style=\"text-align: right;\">\n",
       "      <th></th>\n",
       "      <th>gamecategory</th>\n",
       "      <th>oblast</th>\n",
       "      <th>os</th>\n",
       "      <th>osv</th>\n",
       "      <th>month</th>\n",
       "      <th>wd</th>\n",
       "      <th>hour</th>\n",
       "      <th>Segment</th>\n",
       "      <th>cluster</th>\n",
       "    </tr>\n",
       "  </thead>\n",
       "  <tbody>\n",
       "    <tr>\n",
       "      <th>24312150</th>\n",
       "      <td>missing</td>\n",
       "      <td>Москва</td>\n",
       "      <td>android</td>\n",
       "      <td>android10</td>\n",
       "      <td>8</td>\n",
       "      <td>0</td>\n",
       "      <td>night</td>\n",
       "      <td>4</td>\n",
       "      <td>0</td>\n",
       "    </tr>\n",
       "    <tr>\n",
       "      <th>29973861</th>\n",
       "      <td>missing</td>\n",
       "      <td>Забайкальский Край</td>\n",
       "      <td>android</td>\n",
       "      <td>android8</td>\n",
       "      <td>7</td>\n",
       "      <td>6</td>\n",
       "      <td>night</td>\n",
       "      <td>3</td>\n",
       "      <td>0</td>\n",
       "    </tr>\n",
       "    <tr>\n",
       "      <th>30738000</th>\n",
       "      <td>Games</td>\n",
       "      <td>Алтайский край</td>\n",
       "      <td>android</td>\n",
       "      <td>android9</td>\n",
       "      <td>8</td>\n",
       "      <td>0</td>\n",
       "      <td>evening</td>\n",
       "      <td>5</td>\n",
       "      <td>0</td>\n",
       "    </tr>\n",
       "    <tr>\n",
       "      <th>42373048</th>\n",
       "      <td>Games</td>\n",
       "      <td>Москва</td>\n",
       "      <td>ios</td>\n",
       "      <td>ios14</td>\n",
       "      <td>8</td>\n",
       "      <td>3</td>\n",
       "      <td>work</td>\n",
       "      <td>3</td>\n",
       "      <td>0</td>\n",
       "    </tr>\n",
       "    <tr>\n",
       "      <th>15067441</th>\n",
       "      <td>Games</td>\n",
       "      <td>Краснодарский край</td>\n",
       "      <td>android</td>\n",
       "      <td>android8</td>\n",
       "      <td>7</td>\n",
       "      <td>4</td>\n",
       "      <td>work</td>\n",
       "      <td>3</td>\n",
       "      <td>0</td>\n",
       "    </tr>\n",
       "  </tbody>\n",
       "</table>\n",
       "</div>"
      ],
      "text/plain": [
       "         gamecategory              oblast       os        osv  month  wd  \\\n",
       "24312150      missing              Москва  android  android10      8   0   \n",
       "29973861      missing  Забайкальский Край  android   android8      7   6   \n",
       "30738000        Games      Алтайский край  android   android9      8   0   \n",
       "42373048        Games              Москва      ios      ios14      8   3   \n",
       "15067441        Games  Краснодарский край  android   android8      7   4   \n",
       "\n",
       "             hour  Segment  cluster  \n",
       "24312150    night        4        0  \n",
       "29973861    night        3        0  \n",
       "30738000  evening        5        0  \n",
       "42373048     work        3        0  \n",
       "15067441     work        3        0  "
      ]
     },
     "execution_count": 227,
     "metadata": {},
     "output_type": "execute_result"
    }
   ],
   "source": [
    "X_small.head()"
   ]
  },
  {
   "cell_type": "code",
   "execution_count": 226,
   "metadata": {},
   "outputs": [
    {
     "data": {
      "text/html": [
       "<div>\n",
       "<style scoped>\n",
       "    .dataframe tbody tr th:only-of-type {\n",
       "        vertical-align: middle;\n",
       "    }\n",
       "\n",
       "    .dataframe tbody tr th {\n",
       "        vertical-align: top;\n",
       "    }\n",
       "\n",
       "    .dataframe thead th {\n",
       "        text-align: right;\n",
       "    }\n",
       "</style>\n",
       "<table border=\"1\" class=\"dataframe\">\n",
       "  <thead>\n",
       "    <tr style=\"text-align: right;\">\n",
       "      <th></th>\n",
       "      <th></th>\n",
       "      <th>gamecategory</th>\n",
       "      <th>oblast</th>\n",
       "      <th>os</th>\n",
       "      <th>osv</th>\n",
       "      <th>month</th>\n",
       "      <th>wd</th>\n",
       "      <th>hour</th>\n",
       "      <th>Segment</th>\n",
       "    </tr>\n",
       "  </thead>\n",
       "  <tbody>\n",
       "    <tr>\n",
       "      <th rowspan=\"2\" valign=\"top\">Кластер № 0</th>\n",
       "      <th>Самый частый</th>\n",
       "      <td>Games (50.8%)</td>\n",
       "      <td>Москва (16.9%)</td>\n",
       "      <td>android (89.0%)</td>\n",
       "      <td>android10 (35.8%)</td>\n",
       "      <td>8 (65.4%)</td>\n",
       "      <td>0 (21.4%)</td>\n",
       "      <td>work (57.0%)</td>\n",
       "      <td>3 (33.5%)</td>\n",
       "    </tr>\n",
       "    <tr>\n",
       "      <th>Второе место</th>\n",
       "      <td>missing (43.2%)</td>\n",
       "      <td>missing (7.9%)</td>\n",
       "      <td>ios (11.0%)</td>\n",
       "      <td>android9 (17.6%)</td>\n",
       "      <td>7 (34.6%)</td>\n",
       "      <td>1 (19.6%)</td>\n",
       "      <td>night (25.3%)</td>\n",
       "      <td>5 (32.7%)</td>\n",
       "    </tr>\n",
       "  </tbody>\n",
       "</table>\n",
       "</div>"
      ],
      "text/plain": [
       "                             gamecategory          oblast               os  \\\n",
       "Кластер № 0 Самый частый    Games (50.8%)  Москва (16.9%)  android (89.0%)   \n",
       "            Второе место  missing (43.2%)  missing (7.9%)      ios (11.0%)   \n",
       "\n",
       "                                        osv      month         wd  \\\n",
       "Кластер № 0 Самый частый  android10 (35.8%)  8 (65.4%)  0 (21.4%)   \n",
       "            Второе место   android9 (17.6%)  7 (34.6%)  1 (19.6%)   \n",
       "\n",
       "                                   hour    Segment  \n",
       "Кластер № 0 Самый частый   work (57.0%)  3 (33.5%)  \n",
       "            Второе место  night (25.3%)  5 (32.7%)  "
      ]
     },
     "execution_count": 226,
     "metadata": {},
     "output_type": "execute_result"
    }
   ],
   "source": [
    "table_generation(X_small)"
   ]
  },
  {
   "cell_type": "markdown",
   "metadata": {},
   "source": [
    "Вывод: работает недостаточно хорошо"
   ]
  },
  {
   "cell_type": "markdown",
   "metadata": {},
   "source": [
    "# [TODO] Neural Networks for Clustering in Python"
   ]
  },
  {
   "cell_type": "markdown",
   "metadata": {},
   "source": [
    "https://matthew-parker.rbind.io/post/2021-01-16-pytorch-keras-clustering/#"
   ]
  },
  {
   "cell_type": "code",
   "execution_count": null,
   "metadata": {},
   "outputs": [],
   "source": []
  },
  {
   "cell_type": "code",
   "execution_count": null,
   "metadata": {},
   "outputs": [],
   "source": []
  },
  {
   "cell_type": "code",
   "execution_count": null,
   "metadata": {},
   "outputs": [],
   "source": []
  },
  {
   "cell_type": "code",
   "execution_count": null,
   "metadata": {},
   "outputs": [],
   "source": []
  },
  {
   "cell_type": "code",
   "execution_count": null,
   "metadata": {},
   "outputs": [],
   "source": []
  },
  {
   "cell_type": "markdown",
   "metadata": {},
   "source": [
    "# Clustering to id for test set"
   ]
  },
  {
   "cell_type": "code",
   "execution_count": 266,
   "metadata": {},
   "outputs": [],
   "source": [
    "with open('.pcl', 'rb') as f:\n",
    "    # The protocol version used is detected automatically, so we do not\n",
    "    # have to specify it.\n",
    "    X_ = pickle.load(f)"
   ]
  },
  {
   "cell_type": "code",
   "execution_count": 267,
   "metadata": {},
   "outputs": [],
   "source": [
    "del X_"
   ]
  },
  {
   "cell_type": "code",
   "execution_count": 291,
   "metadata": {},
   "outputs": [
    {
     "name": "stdout",
     "output_type": "stream",
     "text": [
      "Кластер № 0\n"
     ]
    },
    {
     "data": {
      "image/png": "[encoded data removed]",
      "text/plain": [
       "<Figure size 432x288 with 1 Axes>"
      ]
     },
     "metadata": {
      "needs_background": "light"
     },
     "output_type": "display_data"
    },
    {
     "name": "stdout",
     "output_type": "stream",
     "text": [
      "Кластер № 1\n"
     ]
    },
    {
     "data": {
      "image/png": "[encoded data removed]",
      "text/plain": [
       "<Figure size 432x288 with 1 Axes>"
      ]
     },
     "metadata": {
      "needs_background": "light"
     },
     "output_type": "display_data"
    },
    {
     "name": "stdout",
     "output_type": "stream",
     "text": [
      "Кластер № 2\n"
     ]
    },
    {
     "data": {
      "image/png": "[encoded data removed]",
      "text/plain": [
       "<Figure size 432x288 with 1 Axes>"
      ]
     },
     "metadata": {
      "needs_background": "light"
     },
     "output_type": "display_data"
    },
    {
     "name": "stdout",
     "output_type": "stream",
     "text": [
      "Кластер № 3\n"
     ]
    },
    {
     "data": {
      "image/png": "[encoded data removed]",
      "text/plain": [
       "<Figure size 432x288 with 1 Axes>"
      ]
     },
     "metadata": {
      "needs_background": "light"
     },
     "output_type": "display_data"
    },
    {
     "name": "stdout",
     "output_type": "stream",
     "text": [
      "Кластер № 4\n"
     ]
    },
    {
     "data": {
      "image/png": "[encoded data removed]",
      "text/plain": [
       "<Figure size 432x288 with 1 Axes>"
      ]
     },
     "metadata": {
      "needs_background": "light"
     },
     "output_type": "display_data"
    },
    {
     "name": "stdout",
     "output_type": "stream",
     "text": [
      "Кластер № 5\n"
     ]
    },
    {
     "data": {
      "image/png": "[encoded data removed]",
      "text/plain": [
       "<Figure size 432x288 with 1 Axes>"
      ]
     },
     "metadata": {
      "needs_background": "light"
     },
     "output_type": "display_data"
    },
    {
     "name": "stdout",
     "output_type": "stream",
     "text": [
      "Кластер № 6\n"
     ]
    },
    {
     "data": {
      "image/png": "[encoded data removed]",
      "text/plain": [
       "<Figure size 432x288 with 1 Axes>"
      ]
     },
     "metadata": {
      "needs_background": "light"
     },
     "output_type": "display_data"
    },
    {
     "name": "stdout",
     "output_type": "stream",
     "text": [
      "Кластер № 7\n"
     ]
    },
    {
     "data": {
      "image/png": "[encoded data removed]",
      "text/plain": [
       "<Figure size 432x288 with 1 Axes>"
      ]
     },
     "metadata": {
      "needs_background": "light"
     },
     "output_type": "display_data"
    }
   ],
   "source": [
    "for num in range(X.cluster.nunique()):\n",
    "    # Elbow curve to find optimal K\n",
    "    cost = []\n",
    "    K = np.linspace(100, len(X[X.cluster==num]), 11, dtype=int)[:-1]\n",
    "    for num_clusters in list(K):\n",
    "        kmode = KModes(n_clusters=num_clusters, init = \"random\", n_init = 2, verbose=0, random_state=1)\n",
    "        kmode.fit_predict(X[X.cluster==num].drop(['cluster', 'Segment'], axis=1))\n",
    "        cost.append(kmode.cost_)\n",
    "\n",
    "    print(f'Кластер № {num}')\n",
    "    plt.plot(K, cost, 'bx-')\n",
    "    plt.xlabel('No. of clusters')\n",
    "    plt.ylabel('Cost')\n",
    "    plt.title('Elbow Method For Optimal k')\n",
    "    plt.show()"
   ]
  },
  {
   "cell_type": "markdown",
   "metadata": {},
   "source": [
    "- Кластер 0 - 3000\n",
    "- Кластер 1 - 1900\n",
    "- Кластер 2 - 1800\n",
    "- Кластер 3 - 2200\n",
    "- Кластер 4 - 1000\n",
    "- Кластер 5 - 1500\n",
    "- Кластер 6 - 1000\n",
    "- Кластер 7 - 1700\n",
    "- всего - 14100"
   ]
  },
  {
   "cell_type": "code",
   "execution_count": null,
   "metadata": {},
   "outputs": [],
   "source": []
  }
 ],
 "metadata": {
  "kernelspec": {
   "display_name": "Python 3 (ipykernel)",
   "language": "python",
   "name": "python3"
  },
  "language_info": {
   "codemirror_mode": {
    "name": "ipython",
    "version": 3
   },
   "file_extension": ".py",
   "mimetype": "text/x-python",
   "name": "python",
   "nbconvert_exporter": "python",
   "pygments_lexer": "ipython3",
   "version": "3.8.3"
  }
 },
 "nbformat": 4,
 "nbformat_minor": 4
}
